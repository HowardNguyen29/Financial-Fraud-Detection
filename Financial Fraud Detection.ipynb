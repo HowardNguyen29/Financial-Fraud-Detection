{
  "cells": [
    {
      "cell_type": "markdown",
      "metadata": {},
      "source": [
        "# Financial Fraud Detection by Using LSTM Autoencoder"
      ]
    },
    {
      "cell_type": "markdown",
      "metadata": {},
      "source": [
        "+ Dataset: https://www.kaggle.com/datasets/kartik2112/fraud-detection/data?select=fraudTrain.csv\n",
        "\n",
        "I imported the dataset from Kaggle, it is designed for Credit Card Transactions Fraud Detection. Here are some initial features of the dataset:\n",
        "\n",
        "+ category - Category of Merchant\n",
        "+ amt - Amount of Transaction\n",
        "+ first - First Name of Credit Card Holder\n",
        "+ last - Last Name of Credit Card Holder\n",
        "+ gender - Gender of Credit Card Holder\n",
        "+ street - Street Address of Credit Card Holder\n",
        "+ city - City of Credit Card Holder\n",
        "+ state - State of Credit Card Holder\n",
        "+ zip - Zip of Credit Card Holder\n",
        "+ lat - Latitude Location of Credit Card Holder\n",
        "+ long - Longitude Location of Credit Card Holder\n",
        "+ city_pop - Credit Card Holder's City Population\n",
        "+ job - Job of Credit Card Holder\n",
        "+ dob - Date of Birth of Credit Card Holder\n",
        "+ trans_num - Transaction Number\n",
        "+ unix_time - UNIX Time of transaction\n",
        "+ merch_lat - Latitude Location of Merchant\n",
        "+ merch_long - Longitude Location of Merchant\n",
        "+ is_fraud - Fraud Flag <--- Target Class"
      ]
    },
    {
      "cell_type": "code",
      "execution_count": 6,
      "metadata": {
        "id": "vHUF4JtjN9lJ"
      },
      "outputs": [],
      "source": [
        "# !pip install opendatasets --upgrade --quiet"
      ]
    },
    {
      "cell_type": "code",
      "execution_count": 7,
      "metadata": {
        "id": "D6k6SVVFOdAv"
      },
      "outputs": [],
      "source": [
        "#  import opendatasets as od"
      ]
    },
    {
      "cell_type": "code",
      "execution_count": 8,
      "metadata": {
        "id": "klvYQtyNOeT8"
      },
      "outputs": [],
      "source": [
        "# dataset_url = 'https://www.kaggle.com/datasets/kartik2112/fraud-detection'\n",
        "# od.download(dataset_url)"
      ]
    },
    {
      "cell_type": "code",
      "execution_count": 9,
      "metadata": {
        "id": "bdzEa8t0Oqaj"
      },
      "outputs": [],
      "source": [
        "import pandas as pd\n",
        "import matplotlib.pyplot as plt\n",
        "import numpy as np\n",
        "from datetime import datetime\n",
        "from math import radians, sin, cos, sqrt, atan2\n",
        "import seaborn as sns\n",
        "from sklearn.preprocessing import OneHotEncoder, OrdinalEncoder\n",
        "\n",
        "from tensorflow.keras.models import Model\n",
        "from tensorflow.keras.layers import Input, LSTM, RepeatVector, TimeDistributed, Dense\n",
        "from tensorflow.keras.optimizers import Adam\n",
        "from sklearn.metrics import accuracy_score\n",
        "\n",
        "from sklearn.preprocessing import StandardScaler\n",
        "\n",
        "from sklearn.metrics import accuracy_score"
      ]
    },
    {
      "cell_type": "code",
      "execution_count": 10,
      "metadata": {
        "colab": {
          "base_uri": "https://localhost:8080/",
          "height": 382
        },
        "id": "RVxAhdbNPznw",
        "outputId": "dd3931f2-9399-4c94-f213-b919c6fd6907"
      },
      "outputs": [
        {
          "data": {
            "text/html": [
              "<div>\n",
              "<style scoped>\n",
              "    .dataframe tbody tr th:only-of-type {\n",
              "        vertical-align: middle;\n",
              "    }\n",
              "\n",
              "    .dataframe tbody tr th {\n",
              "        vertical-align: top;\n",
              "    }\n",
              "\n",
              "    .dataframe thead th {\n",
              "        text-align: right;\n",
              "    }\n",
              "</style>\n",
              "<table border=\"1\" class=\"dataframe\">\n",
              "  <thead>\n",
              "    <tr style=\"text-align: right;\">\n",
              "      <th></th>\n",
              "      <th>trans_date_trans_time</th>\n",
              "      <th>merchant</th>\n",
              "      <th>category</th>\n",
              "      <th>amt</th>\n",
              "      <th>gender</th>\n",
              "      <th>city</th>\n",
              "      <th>state</th>\n",
              "      <th>zip</th>\n",
              "      <th>lat</th>\n",
              "      <th>long</th>\n",
              "      <th>city_pop</th>\n",
              "      <th>job</th>\n",
              "      <th>dob</th>\n",
              "      <th>unix_time</th>\n",
              "      <th>merch_lat</th>\n",
              "      <th>merch_long</th>\n",
              "      <th>is_fraud</th>\n",
              "    </tr>\n",
              "  </thead>\n",
              "  <tbody>\n",
              "    <tr>\n",
              "      <th>0</th>\n",
              "      <td>2019-01-01 00:00:18</td>\n",
              "      <td>fraud_Rippin, Kub and Mann</td>\n",
              "      <td>misc_net</td>\n",
              "      <td>4.97</td>\n",
              "      <td>F</td>\n",
              "      <td>Moravian Falls</td>\n",
              "      <td>NC</td>\n",
              "      <td>28654</td>\n",
              "      <td>36.0788</td>\n",
              "      <td>-81.1781</td>\n",
              "      <td>3495</td>\n",
              "      <td>Psychologist, counselling</td>\n",
              "      <td>1988-03-09</td>\n",
              "      <td>1325376018</td>\n",
              "      <td>36.011293</td>\n",
              "      <td>-82.048315</td>\n",
              "      <td>0</td>\n",
              "    </tr>\n",
              "    <tr>\n",
              "      <th>1</th>\n",
              "      <td>2019-01-01 00:00:44</td>\n",
              "      <td>fraud_Heller, Gutmann and Zieme</td>\n",
              "      <td>grocery_pos</td>\n",
              "      <td>107.23</td>\n",
              "      <td>F</td>\n",
              "      <td>Orient</td>\n",
              "      <td>WA</td>\n",
              "      <td>99160</td>\n",
              "      <td>48.8878</td>\n",
              "      <td>-118.2105</td>\n",
              "      <td>149</td>\n",
              "      <td>Special educational needs teacher</td>\n",
              "      <td>1978-06-21</td>\n",
              "      <td>1325376044</td>\n",
              "      <td>49.159047</td>\n",
              "      <td>-118.186462</td>\n",
              "      <td>0</td>\n",
              "    </tr>\n",
              "    <tr>\n",
              "      <th>2</th>\n",
              "      <td>2019-01-01 00:00:51</td>\n",
              "      <td>fraud_Lind-Buckridge</td>\n",
              "      <td>entertainment</td>\n",
              "      <td>220.11</td>\n",
              "      <td>M</td>\n",
              "      <td>Malad City</td>\n",
              "      <td>ID</td>\n",
              "      <td>83252</td>\n",
              "      <td>42.1808</td>\n",
              "      <td>-112.2620</td>\n",
              "      <td>4154</td>\n",
              "      <td>Nature conservation officer</td>\n",
              "      <td>1962-01-19</td>\n",
              "      <td>1325376051</td>\n",
              "      <td>43.150704</td>\n",
              "      <td>-112.154481</td>\n",
              "      <td>0</td>\n",
              "    </tr>\n",
              "    <tr>\n",
              "      <th>3</th>\n",
              "      <td>2019-01-01 00:01:16</td>\n",
              "      <td>fraud_Kutch, Hermiston and Farrell</td>\n",
              "      <td>gas_transport</td>\n",
              "      <td>45.00</td>\n",
              "      <td>M</td>\n",
              "      <td>Boulder</td>\n",
              "      <td>MT</td>\n",
              "      <td>59632</td>\n",
              "      <td>46.2306</td>\n",
              "      <td>-112.1138</td>\n",
              "      <td>1939</td>\n",
              "      <td>Patent attorney</td>\n",
              "      <td>1967-01-12</td>\n",
              "      <td>1325376076</td>\n",
              "      <td>47.034331</td>\n",
              "      <td>-112.561071</td>\n",
              "      <td>0</td>\n",
              "    </tr>\n",
              "    <tr>\n",
              "      <th>4</th>\n",
              "      <td>2019-01-01 00:03:06</td>\n",
              "      <td>fraud_Keeling-Crist</td>\n",
              "      <td>misc_pos</td>\n",
              "      <td>41.96</td>\n",
              "      <td>M</td>\n",
              "      <td>Doe Hill</td>\n",
              "      <td>VA</td>\n",
              "      <td>24433</td>\n",
              "      <td>38.4207</td>\n",
              "      <td>-79.4629</td>\n",
              "      <td>99</td>\n",
              "      <td>Dance movement psychotherapist</td>\n",
              "      <td>1986-03-28</td>\n",
              "      <td>1325376186</td>\n",
              "      <td>38.674999</td>\n",
              "      <td>-78.632459</td>\n",
              "      <td>0</td>\n",
              "    </tr>\n",
              "  </tbody>\n",
              "</table>\n",
              "</div>"
            ],
            "text/plain": [
              "  trans_date_trans_time                            merchant       category  \\\n",
              "0   2019-01-01 00:00:18          fraud_Rippin, Kub and Mann       misc_net   \n",
              "1   2019-01-01 00:00:44     fraud_Heller, Gutmann and Zieme    grocery_pos   \n",
              "2   2019-01-01 00:00:51                fraud_Lind-Buckridge  entertainment   \n",
              "3   2019-01-01 00:01:16  fraud_Kutch, Hermiston and Farrell  gas_transport   \n",
              "4   2019-01-01 00:03:06                 fraud_Keeling-Crist       misc_pos   \n",
              "\n",
              "      amt gender            city state    zip      lat      long  city_pop  \\\n",
              "0    4.97      F  Moravian Falls    NC  28654  36.0788  -81.1781      3495   \n",
              "1  107.23      F          Orient    WA  99160  48.8878 -118.2105       149   \n",
              "2  220.11      M      Malad City    ID  83252  42.1808 -112.2620      4154   \n",
              "3   45.00      M         Boulder    MT  59632  46.2306 -112.1138      1939   \n",
              "4   41.96      M        Doe Hill    VA  24433  38.4207  -79.4629        99   \n",
              "\n",
              "                                 job         dob   unix_time  merch_lat  \\\n",
              "0          Psychologist, counselling  1988-03-09  1325376018  36.011293   \n",
              "1  Special educational needs teacher  1978-06-21  1325376044  49.159047   \n",
              "2        Nature conservation officer  1962-01-19  1325376051  43.150704   \n",
              "3                    Patent attorney  1967-01-12  1325376076  47.034331   \n",
              "4     Dance movement psychotherapist  1986-03-28  1325376186  38.674999   \n",
              "\n",
              "   merch_long  is_fraud  \n",
              "0  -82.048315         0  \n",
              "1 -118.186462         0  \n",
              "2 -112.154481         0  \n",
              "3 -112.561071         0  \n",
              "4  -78.632459         0  "
            ]
          },
          "execution_count": 10,
          "metadata": {},
          "output_type": "execute_result"
        }
      ],
      "source": [
        "df = pd.read_csv(\"/Users/hau.nguyen2904/Downloads/fraudTrain.csv\")\n",
        "df.drop(columns = [df.columns[0], df.columns[2], df.columns[6], df.columns[7], df.columns[9],  \"trans_num\"], inplace=True)\n",
        "\n",
        "\n",
        "df.head()"
      ]
    },
    {
      "cell_type": "code",
      "execution_count": 11,
      "metadata": {
        "colab": {
          "base_uri": "https://localhost:8080/"
        },
        "id": "8mkIxcsxQWbM",
        "outputId": "9c17c9c4-7a9f-4aca-d196-21baeddfcd5c"
      },
      "outputs": [
        {
          "name": "stdout",
          "output_type": "stream",
          "text": [
            "<class 'pandas.core.frame.DataFrame'>\n",
            "RangeIndex: 1296675 entries, 0 to 1296674\n",
            "Data columns (total 17 columns):\n",
            " #   Column                 Non-Null Count    Dtype  \n",
            "---  ------                 --------------    -----  \n",
            " 0   trans_date_trans_time  1296675 non-null  object \n",
            " 1   merchant               1296675 non-null  object \n",
            " 2   category               1296675 non-null  object \n",
            " 3   amt                    1296675 non-null  float64\n",
            " 4   gender                 1296675 non-null  object \n",
            " 5   city                   1296675 non-null  object \n",
            " 6   state                  1296675 non-null  object \n",
            " 7   zip                    1296675 non-null  int64  \n",
            " 8   lat                    1296675 non-null  float64\n",
            " 9   long                   1296675 non-null  float64\n",
            " 10  city_pop               1296675 non-null  int64  \n",
            " 11  job                    1296675 non-null  object \n",
            " 12  dob                    1296675 non-null  object \n",
            " 13  unix_time              1296675 non-null  int64  \n",
            " 14  merch_lat              1296675 non-null  float64\n",
            " 15  merch_long             1296675 non-null  float64\n",
            " 16  is_fraud               1296675 non-null  int64  \n",
            "dtypes: float64(5), int64(4), object(8)\n",
            "memory usage: 168.2+ MB\n"
          ]
        }
      ],
      "source": [
        "df.info()"
      ]
    },
    {
      "cell_type": "code",
      "execution_count": 12,
      "metadata": {
        "colab": {
          "base_uri": "https://localhost:8080/",
          "height": 617
        },
        "id": "6M9a99GRY9ii",
        "outputId": "950d56d9-061f-4de9-e0db-135a50345c3d"
      },
      "outputs": [
        {
          "data": {
            "text/plain": [
              "trans_date_trans_time    0\n",
              "merchant                 0\n",
              "category                 0\n",
              "amt                      0\n",
              "gender                   0\n",
              "city                     0\n",
              "state                    0\n",
              "zip                      0\n",
              "lat                      0\n",
              "long                     0\n",
              "city_pop                 0\n",
              "job                      0\n",
              "dob                      0\n",
              "unix_time                0\n",
              "merch_lat                0\n",
              "merch_long               0\n",
              "is_fraud                 0\n",
              "dtype: int64"
            ]
          },
          "execution_count": 12,
          "metadata": {},
          "output_type": "execute_result"
        }
      ],
      "source": [
        "df.isnull().sum()"
      ]
    },
    {
      "cell_type": "code",
      "execution_count": 13,
      "metadata": {
        "colab": {
          "base_uri": "https://localhost:8080/",
          "height": 178
        },
        "id": "lrr9Z3l3P2mU",
        "outputId": "d5e86595-c271-42f2-8024-f0f16efe658e"
      },
      "outputs": [
        {
          "data": {
            "text/plain": [
              "is_fraud\n",
              "0    0.994211\n",
              "1    0.005789\n",
              "Name: count, dtype: float64"
            ]
          },
          "execution_count": 13,
          "metadata": {},
          "output_type": "execute_result"
        }
      ],
      "source": [
        "class_counts = df['is_fraud'].value_counts()\n",
        "\n",
        "class_distribution = class_counts / len(df)\n",
        "class_distribution"
      ]
    },
    {
      "cell_type": "markdown",
      "metadata": {},
      "source": [
        "## 1. Feature Engineering"
      ]
    },
    {
      "cell_type": "markdown",
      "metadata": {
        "id": "vkHllxh3bBX5"
      },
      "source": [
        "### Age"
      ]
    },
    {
      "cell_type": "markdown",
      "metadata": {},
      "source": [
        "Let's calculate the age of the credit card holder based on their date of birth from the available features."
      ]
    },
    {
      "cell_type": "code",
      "execution_count": 14,
      "metadata": {
        "id": "6hQ0oprfVJLE"
      },
      "outputs": [],
      "source": [
        "current_date = datetime.now()\n",
        "current_date = pd.to_datetime(current_date)\n",
        "current_year = current_date.year\n",
        "df['dob'] = pd.to_datetime(df['dob'])\n",
        "df['age'] = current_year - df['dob'].dt.year"
      ]
    },
    {
      "cell_type": "code",
      "execution_count": 15,
      "metadata": {
        "id": "Bqr-qQr5pC6K"
      },
      "outputs": [],
      "source": [
        "df.drop(columns = [\"dob\"], inplace = True)"
      ]
    },
    {
      "cell_type": "markdown",
      "metadata": {
        "id": "COsS7NQgbEj0"
      },
      "source": [
        "### Distance"
      ]
    },
    {
      "cell_type": "markdown",
      "metadata": {},
      "source": [
        "Let's calculate the Distance between the merchant and the customer using Haversine distance formula."
      ]
    },
    {
      "cell_type": "code",
      "execution_count": 16,
      "metadata": {
        "id": "hnqz-mtmbD5o"
      },
      "outputs": [],
      "source": [
        "def haversine_distance(lat1, lon1, lat2, lon2):\n",
        "    R = 6371  # Radius of Earth in kilometers\n",
        "    lat1_rad, lon1_rad = radians(lat1), radians(lon1)\n",
        "    lat2_rad, lon2_rad = radians(lat2), radians(lon2)\n",
        "    dlat = lat2_rad - lat1_rad\n",
        "    dlon = lon2_rad - lon1_rad\n",
        "    a = sin(dlat / 2)**2 + cos(lat1_rad) * cos(lat2_rad) * sin(dlon / 2)**2\n",
        "    c = 2 * atan2(sqrt(a), sqrt(1 - a))\n",
        "    return R * c"
      ]
    },
    {
      "cell_type": "code",
      "execution_count": 17,
      "metadata": {
        "id": "JU9V4jtObD3J"
      },
      "outputs": [],
      "source": [
        "df[\"distance\"] = df.apply(lambda row: haversine_distance(row['lat'], row['long'], \n",
        "                                                         row['merch_lat'], row['merch_long']), axis=1)"
      ]
    },
    {
      "cell_type": "code",
      "execution_count": 18,
      "metadata": {
        "colab": {
          "base_uri": "https://localhost:8080/",
          "height": 345
        },
        "id": "71wWRaF-bD1G",
        "outputId": "7fdc0f4c-c4d6-4dd7-c5b0-3de769093a42"
      },
      "outputs": [
        {
          "data": {
            "text/html": [
              "<div>\n",
              "<style scoped>\n",
              "    .dataframe tbody tr th:only-of-type {\n",
              "        vertical-align: middle;\n",
              "    }\n",
              "\n",
              "    .dataframe tbody tr th {\n",
              "        vertical-align: top;\n",
              "    }\n",
              "\n",
              "    .dataframe thead th {\n",
              "        text-align: right;\n",
              "    }\n",
              "</style>\n",
              "<table border=\"1\" class=\"dataframe\">\n",
              "  <thead>\n",
              "    <tr style=\"text-align: right;\">\n",
              "      <th></th>\n",
              "      <th>trans_date_trans_time</th>\n",
              "      <th>merchant</th>\n",
              "      <th>category</th>\n",
              "      <th>amt</th>\n",
              "      <th>gender</th>\n",
              "      <th>city</th>\n",
              "      <th>state</th>\n",
              "      <th>zip</th>\n",
              "      <th>city_pop</th>\n",
              "      <th>job</th>\n",
              "      <th>unix_time</th>\n",
              "      <th>is_fraud</th>\n",
              "      <th>age</th>\n",
              "      <th>distance</th>\n",
              "    </tr>\n",
              "  </thead>\n",
              "  <tbody>\n",
              "    <tr>\n",
              "      <th>0</th>\n",
              "      <td>2019-01-01 00:00:18</td>\n",
              "      <td>fraud_Rippin, Kub and Mann</td>\n",
              "      <td>misc_net</td>\n",
              "      <td>4.97</td>\n",
              "      <td>F</td>\n",
              "      <td>Moravian Falls</td>\n",
              "      <td>NC</td>\n",
              "      <td>28654</td>\n",
              "      <td>3495</td>\n",
              "      <td>Psychologist, counselling</td>\n",
              "      <td>1325376018</td>\n",
              "      <td>0</td>\n",
              "      <td>36</td>\n",
              "      <td>78.597568</td>\n",
              "    </tr>\n",
              "    <tr>\n",
              "      <th>1</th>\n",
              "      <td>2019-01-01 00:00:44</td>\n",
              "      <td>fraud_Heller, Gutmann and Zieme</td>\n",
              "      <td>grocery_pos</td>\n",
              "      <td>107.23</td>\n",
              "      <td>F</td>\n",
              "      <td>Orient</td>\n",
              "      <td>WA</td>\n",
              "      <td>99160</td>\n",
              "      <td>149</td>\n",
              "      <td>Special educational needs teacher</td>\n",
              "      <td>1325376044</td>\n",
              "      <td>0</td>\n",
              "      <td>46</td>\n",
              "      <td>30.212176</td>\n",
              "    </tr>\n",
              "    <tr>\n",
              "      <th>2</th>\n",
              "      <td>2019-01-01 00:00:51</td>\n",
              "      <td>fraud_Lind-Buckridge</td>\n",
              "      <td>entertainment</td>\n",
              "      <td>220.11</td>\n",
              "      <td>M</td>\n",
              "      <td>Malad City</td>\n",
              "      <td>ID</td>\n",
              "      <td>83252</td>\n",
              "      <td>4154</td>\n",
              "      <td>Nature conservation officer</td>\n",
              "      <td>1325376051</td>\n",
              "      <td>0</td>\n",
              "      <td>62</td>\n",
              "      <td>108.206083</td>\n",
              "    </tr>\n",
              "    <tr>\n",
              "      <th>3</th>\n",
              "      <td>2019-01-01 00:01:16</td>\n",
              "      <td>fraud_Kutch, Hermiston and Farrell</td>\n",
              "      <td>gas_transport</td>\n",
              "      <td>45.00</td>\n",
              "      <td>M</td>\n",
              "      <td>Boulder</td>\n",
              "      <td>MT</td>\n",
              "      <td>59632</td>\n",
              "      <td>1939</td>\n",
              "      <td>Patent attorney</td>\n",
              "      <td>1325376076</td>\n",
              "      <td>0</td>\n",
              "      <td>57</td>\n",
              "      <td>95.673231</td>\n",
              "    </tr>\n",
              "    <tr>\n",
              "      <th>4</th>\n",
              "      <td>2019-01-01 00:03:06</td>\n",
              "      <td>fraud_Keeling-Crist</td>\n",
              "      <td>misc_pos</td>\n",
              "      <td>41.96</td>\n",
              "      <td>M</td>\n",
              "      <td>Doe Hill</td>\n",
              "      <td>VA</td>\n",
              "      <td>24433</td>\n",
              "      <td>99</td>\n",
              "      <td>Dance movement psychotherapist</td>\n",
              "      <td>1325376186</td>\n",
              "      <td>0</td>\n",
              "      <td>38</td>\n",
              "      <td>77.556744</td>\n",
              "    </tr>\n",
              "  </tbody>\n",
              "</table>\n",
              "</div>"
            ],
            "text/plain": [
              "  trans_date_trans_time                            merchant       category  \\\n",
              "0   2019-01-01 00:00:18          fraud_Rippin, Kub and Mann       misc_net   \n",
              "1   2019-01-01 00:00:44     fraud_Heller, Gutmann and Zieme    grocery_pos   \n",
              "2   2019-01-01 00:00:51                fraud_Lind-Buckridge  entertainment   \n",
              "3   2019-01-01 00:01:16  fraud_Kutch, Hermiston and Farrell  gas_transport   \n",
              "4   2019-01-01 00:03:06                 fraud_Keeling-Crist       misc_pos   \n",
              "\n",
              "      amt gender            city state    zip  city_pop  \\\n",
              "0    4.97      F  Moravian Falls    NC  28654      3495   \n",
              "1  107.23      F          Orient    WA  99160       149   \n",
              "2  220.11      M      Malad City    ID  83252      4154   \n",
              "3   45.00      M         Boulder    MT  59632      1939   \n",
              "4   41.96      M        Doe Hill    VA  24433        99   \n",
              "\n",
              "                                 job   unix_time  is_fraud  age    distance  \n",
              "0          Psychologist, counselling  1325376018         0   36   78.597568  \n",
              "1  Special educational needs teacher  1325376044         0   46   30.212176  \n",
              "2        Nature conservation officer  1325376051         0   62  108.206083  \n",
              "3                    Patent attorney  1325376076         0   57   95.673231  \n",
              "4     Dance movement psychotherapist  1325376186         0   38   77.556744  "
            ]
          },
          "execution_count": 18,
          "metadata": {},
          "output_type": "execute_result"
        }
      ],
      "source": [
        "df.drop(columns = [\"lat\", \"long\", \"merch_lat\", \"merch_long\"], inplace = True)\n",
        "df.head()"
      ]
    },
    {
      "cell_type": "markdown",
      "metadata": {
        "id": "7Fu9JuSycg_F"
      },
      "source": []
    },
    {
      "cell_type": "markdown",
      "metadata": {
        "id": "ZU-rbsJqjpvU"
      },
      "source": [
        "### Merchant"
      ]
    },
    {
      "cell_type": "markdown",
      "metadata": {},
      "source": [
        "Let's calculate fraud percentages for each merchant"
      ]
    },
    {
      "cell_type": "code",
      "execution_count": 19,
      "metadata": {
        "id": "uyifSSREdPcm"
      },
      "outputs": [],
      "source": [
        "merchant_groups = df.groupby('merchant')\n",
        "fraud_percentage_dict = {}\n",
        "\n",
        "for merchant, group in merchant_groups:\n",
        "    total_trans = group.shape[0]\n",
        "    total_fraud_trans = group[group[\"is_fraud\"] == 1].shape[0]\n",
        "    fraud_percentage_dict[merchant] = (total_fraud_trans / total_trans) * 100\n",
        "\n",
        "\n",
        "df[\"fraud_merchant_pct\"] = df[\"merchant\"].map(fraud_percentage_dict)\n"
      ]
    },
    {
      "cell_type": "markdown",
      "metadata": {},
      "source": [
        "Let's rank merchants based on their fraud percentages using merchant ordinals"
      ]
    },
    {
      "cell_type": "code",
      "execution_count": 20,
      "metadata": {
        "id": "BXvnnFvUjwzZ"
      },
      "outputs": [],
      "source": [
        "sorted_fraud_percentage = sorted(fraud_percentage_dict.items(), key=lambda x: x[1])\n",
        "\n",
        "# Create a dictionary for ordinal encoding\n",
        "merchant_ordinal_dict = {merchant: rank + 1 for rank, (merchant, _) in enumerate(sorted_fraud_percentage)}\n",
        "\n",
        "df[\"merchant_ordinal\"] = df[\"merchant\"].map(merchant_ordinal_dict)"
      ]
    },
    {
      "cell_type": "markdown",
      "metadata": {
        "id": "EQ6dIh9JlG2p"
      },
      "source": [
        "### States"
      ]
    },
    {
      "cell_type": "markdown",
      "metadata": {},
      "source": [
        "Encode the states, then create a figure to rank the number of fraud transactions by state."
      ]
    },
    {
      "cell_type": "code",
      "execution_count": 21,
      "metadata": {
        "id": "_amXRbFQjwik"
      },
      "outputs": [],
      "source": [
        "state_freq = df['state'].value_counts(normalize=True)\n",
        "df['state_encoded'] = df['state'].map(state_freq)"
      ]
    },
    {
      "cell_type": "code",
      "execution_count": 22,
      "metadata": {
        "colab": {
          "base_uri": "https://localhost:8080/",
          "height": 382
        },
        "id": "fAEMsxhGdPXf",
        "outputId": "67acf9c2-57dd-4b8b-cb77-0fa16aec425e"
      },
      "outputs": [
        {
          "data": {
            "text/html": [
              "<div>\n",
              "<style scoped>\n",
              "    .dataframe tbody tr th:only-of-type {\n",
              "        vertical-align: middle;\n",
              "    }\n",
              "\n",
              "    .dataframe tbody tr th {\n",
              "        vertical-align: top;\n",
              "    }\n",
              "\n",
              "    .dataframe thead th {\n",
              "        text-align: right;\n",
              "    }\n",
              "</style>\n",
              "<table border=\"1\" class=\"dataframe\">\n",
              "  <thead>\n",
              "    <tr style=\"text-align: right;\">\n",
              "      <th></th>\n",
              "      <th>trans_date_trans_time</th>\n",
              "      <th>merchant</th>\n",
              "      <th>category</th>\n",
              "      <th>amt</th>\n",
              "      <th>gender</th>\n",
              "      <th>city</th>\n",
              "      <th>state</th>\n",
              "      <th>zip</th>\n",
              "      <th>city_pop</th>\n",
              "      <th>job</th>\n",
              "      <th>unix_time</th>\n",
              "      <th>is_fraud</th>\n",
              "      <th>age</th>\n",
              "      <th>distance</th>\n",
              "      <th>fraud_merchant_pct</th>\n",
              "      <th>merchant_ordinal</th>\n",
              "      <th>state_encoded</th>\n",
              "    </tr>\n",
              "  </thead>\n",
              "  <tbody>\n",
              "    <tr>\n",
              "      <th>0</th>\n",
              "      <td>2019-01-01 00:00:18</td>\n",
              "      <td>fraud_Rippin, Kub and Mann</td>\n",
              "      <td>misc_net</td>\n",
              "      <td>4.97</td>\n",
              "      <td>F</td>\n",
              "      <td>Moravian Falls</td>\n",
              "      <td>NC</td>\n",
              "      <td>28654</td>\n",
              "      <td>3495</td>\n",
              "      <td>Psychologist, counselling</td>\n",
              "      <td>1325376018</td>\n",
              "      <td>0</td>\n",
              "      <td>36</td>\n",
              "      <td>78.597568</td>\n",
              "      <td>1.420679</td>\n",
              "      <td>599</td>\n",
              "      <td>0.023341</td>\n",
              "    </tr>\n",
              "    <tr>\n",
              "      <th>1</th>\n",
              "      <td>2019-01-01 00:00:44</td>\n",
              "      <td>fraud_Heller, Gutmann and Zieme</td>\n",
              "      <td>grocery_pos</td>\n",
              "      <td>107.23</td>\n",
              "      <td>F</td>\n",
              "      <td>Orient</td>\n",
              "      <td>WA</td>\n",
              "      <td>99160</td>\n",
              "      <td>149</td>\n",
              "      <td>Special educational needs teacher</td>\n",
              "      <td>1325376044</td>\n",
              "      <td>0</td>\n",
              "      <td>46</td>\n",
              "      <td>30.212176</td>\n",
              "      <td>1.078706</td>\n",
              "      <td>557</td>\n",
              "      <td>0.014594</td>\n",
              "    </tr>\n",
              "    <tr>\n",
              "      <th>2</th>\n",
              "      <td>2019-01-01 00:00:51</td>\n",
              "      <td>fraud_Lind-Buckridge</td>\n",
              "      <td>entertainment</td>\n",
              "      <td>220.11</td>\n",
              "      <td>M</td>\n",
              "      <td>Malad City</td>\n",
              "      <td>ID</td>\n",
              "      <td>83252</td>\n",
              "      <td>4154</td>\n",
              "      <td>Nature conservation officer</td>\n",
              "      <td>1325376051</td>\n",
              "      <td>0</td>\n",
              "      <td>62</td>\n",
              "      <td>108.206083</td>\n",
              "      <td>0.211082</td>\n",
              "      <td>215</td>\n",
              "      <td>0.004276</td>\n",
              "    </tr>\n",
              "    <tr>\n",
              "      <th>3</th>\n",
              "      <td>2019-01-01 00:01:16</td>\n",
              "      <td>fraud_Kutch, Hermiston and Farrell</td>\n",
              "      <td>gas_transport</td>\n",
              "      <td>45.00</td>\n",
              "      <td>M</td>\n",
              "      <td>Boulder</td>\n",
              "      <td>MT</td>\n",
              "      <td>59632</td>\n",
              "      <td>1939</td>\n",
              "      <td>Patent attorney</td>\n",
              "      <td>1325376076</td>\n",
              "      <td>0</td>\n",
              "      <td>57</td>\n",
              "      <td>95.673231</td>\n",
              "      <td>0.344432</td>\n",
              "      <td>368</td>\n",
              "      <td>0.009065</td>\n",
              "    </tr>\n",
              "    <tr>\n",
              "      <th>4</th>\n",
              "      <td>2019-01-01 00:03:06</td>\n",
              "      <td>fraud_Keeling-Crist</td>\n",
              "      <td>misc_pos</td>\n",
              "      <td>41.96</td>\n",
              "      <td>M</td>\n",
              "      <td>Doe Hill</td>\n",
              "      <td>VA</td>\n",
              "      <td>24433</td>\n",
              "      <td>99</td>\n",
              "      <td>Dance movement psychotherapist</td>\n",
              "      <td>1325376186</td>\n",
              "      <td>0</td>\n",
              "      <td>38</td>\n",
              "      <td>77.556744</td>\n",
              "      <td>0.376884</td>\n",
              "      <td>399</td>\n",
              "      <td>0.022558</td>\n",
              "    </tr>\n",
              "  </tbody>\n",
              "</table>\n",
              "</div>"
            ],
            "text/plain": [
              "  trans_date_trans_time                            merchant       category  \\\n",
              "0   2019-01-01 00:00:18          fraud_Rippin, Kub and Mann       misc_net   \n",
              "1   2019-01-01 00:00:44     fraud_Heller, Gutmann and Zieme    grocery_pos   \n",
              "2   2019-01-01 00:00:51                fraud_Lind-Buckridge  entertainment   \n",
              "3   2019-01-01 00:01:16  fraud_Kutch, Hermiston and Farrell  gas_transport   \n",
              "4   2019-01-01 00:03:06                 fraud_Keeling-Crist       misc_pos   \n",
              "\n",
              "      amt gender            city state    zip  city_pop  \\\n",
              "0    4.97      F  Moravian Falls    NC  28654      3495   \n",
              "1  107.23      F          Orient    WA  99160       149   \n",
              "2  220.11      M      Malad City    ID  83252      4154   \n",
              "3   45.00      M         Boulder    MT  59632      1939   \n",
              "4   41.96      M        Doe Hill    VA  24433        99   \n",
              "\n",
              "                                 job   unix_time  is_fraud  age    distance  \\\n",
              "0          Psychologist, counselling  1325376018         0   36   78.597568   \n",
              "1  Special educational needs teacher  1325376044         0   46   30.212176   \n",
              "2        Nature conservation officer  1325376051         0   62  108.206083   \n",
              "3                    Patent attorney  1325376076         0   57   95.673231   \n",
              "4     Dance movement psychotherapist  1325376186         0   38   77.556744   \n",
              "\n",
              "   fraud_merchant_pct  merchant_ordinal  state_encoded  \n",
              "0            1.420679               599       0.023341  \n",
              "1            1.078706               557       0.014594  \n",
              "2            0.211082               215       0.004276  \n",
              "3            0.344432               368       0.009065  \n",
              "4            0.376884               399       0.022558  "
            ]
          },
          "execution_count": 22,
          "metadata": {},
          "output_type": "execute_result"
        }
      ],
      "source": [
        "df.head()"
      ]
    },
    {
      "cell_type": "code",
      "execution_count": 23,
      "metadata": {
        "id": "2rEgnWrbtsNj"
      },
      "outputs": [],
      "source": [
        "fraud_by_state = df[df['is_fraud'] == 1].groupby('state').size()\n",
        "fraud_by_state = fraud_by_state.sort_values(ascending=False)"
      ]
    },
    {
      "cell_type": "code",
      "execution_count": 24,
      "metadata": {
        "colab": {
          "base_uri": "https://localhost:8080/",
          "height": 575
        },
        "id": "rg5ScZZ1la2H",
        "outputId": "35a648c6-780d-4e38-8680-2b97c2ad4a73"
      },
      "outputs": [
        {
          "name": "stderr",
          "output_type": "stream",
          "text": [
            "/Library/Frameworks/Python.framework/Versions/3.11/lib/python3.11/site-packages/seaborn/_oldcore.py:1498: FutureWarning: is_categorical_dtype is deprecated and will be removed in a future version. Use isinstance(dtype, CategoricalDtype) instead\n",
            "  if pd.api.types.is_categorical_dtype(vector):\n",
            "/Library/Frameworks/Python.framework/Versions/3.11/lib/python3.11/site-packages/seaborn/_oldcore.py:1498: FutureWarning: is_categorical_dtype is deprecated and will be removed in a future version. Use isinstance(dtype, CategoricalDtype) instead\n",
            "  if pd.api.types.is_categorical_dtype(vector):\n",
            "/Library/Frameworks/Python.framework/Versions/3.11/lib/python3.11/site-packages/seaborn/_oldcore.py:1498: FutureWarning: is_categorical_dtype is deprecated and will be removed in a future version. Use isinstance(dtype, CategoricalDtype) instead\n",
            "  if pd.api.types.is_categorical_dtype(vector):\n"
          ]
        },
        {
          "data": {
            "image/png": "[encoded data removed]",
            "text/plain": [
              "<Figure size 2000x600 with 1 Axes>"
            ]
          },
          "metadata": {},
          "output_type": "display_data"
        }
      ],
      "source": [
        "plt.figure(figsize=(20, 6))\n",
        "sns.barplot(x=fraud_by_state.index, y=fraud_by_state.values, palette='Blues_d')\n",
        "plt.title('Fraud Distribution by State')\n",
        "plt.xlabel('State')\n",
        "plt.ylabel('Number of Fraud Cases')\n",
        "plt.xticks(rotation=45)\n",
        "plt.show()"
      ]
    },
    {
      "cell_type": "markdown",
      "metadata": {
        "id": "2oEX9qjhlnW_"
      },
      "source": [
        "### Jobs"
      ]
    },
    {
      "cell_type": "markdown",
      "metadata": {},
      "source": [
        "There are 494 non-unique jobs, so I need to categorize them into job categories."
      ]
    },
    {
      "cell_type": "code",
      "execution_count": 25,
      "metadata": {},
      "outputs": [
        {
          "data": {
            "text/plain": [
              "494"
            ]
          },
          "execution_count": 25,
          "metadata": {},
          "output_type": "execute_result"
        }
      ],
      "source": [
        "df.job.nunique()"
      ]
    },
    {
      "cell_type": "code",
      "execution_count": 26,
      "metadata": {
        "id": "Etb-ATR9laxt"
      },
      "outputs": [],
      "source": [
        "sector_bag = {\n",
        "    \"IT\": [\"engineer\", \"developer\", \"programmer\", \"software\", \"IT\", \"technician\", \"architect\", \"system\", \"network\",\n",
        "           \"administrator\", \"data scientist\", \"cybersecurity\", \"web developer\", \"analyst\", \"database\", \"devops\"],\n",
        "\n",
        "    \"Education\": [\"teacher\", \"professor\", \"educator\", \"trainer\", \"lecturer\", \"scientist\", \"Orthoptist\", \"tutor\",\n",
        "                  \"principal\", \"instructor\", \"counselor\", \"academic\", \"researcher\", \"dean\", \"school\", \"headmaster\"],\n",
        "\n",
        "    \"Healthcare\": [\"doctor\", \"nurse\", \"medical\", \"therapist\", \"pharmacist\", \"health\", \"surgeon\", \"dentist\", \"clinician\",\n",
        "                   \"physician\", \"optometrist\", \"radiologist\", \"paramedic\", \"midwife\", \"veterinarian\", \"psychiatrist\"],\n",
        "\n",
        "    \"Finance\": [\"analyst\", \"accountant\", \"auditor\", \"banker\", \"financial\", \"investment\", \"controller\", \"broker\",\n",
        "                \"consultant\", \"treasurer\", \"loan officer\", \"trader\", \"actuary\", \"economist\", \"portfolio\", \"credit\"],\n",
        "\n",
        "    \"Marketing\": [\"manager\", \"executive\", \"specialist\", \"consultant\", \"advertising\", \"public relations\", \"strategist\",\n",
        "                  \"director\", \"coordinator\", \"brand\", \"SEO\", \"content\", \"digital\", \"market research\", \"social media\",\n",
        "                  \"copywriter\"],\n",
        "\n",
        "    \"Manufacturing\": [\"operator\", \"mechanic\", \"assembler\", \"fabricator\", \"engineer\", \"technician\", \"welder\",\n",
        "                      \"planner\", \"quality\", \"machinist\", \"production\", \"inspector\", \"supervisor\", \"foreman\",\n",
        "                      \"toolmaker\", \"CNC\"],\n",
        "\n",
        "    \"Retail\": [\"cashier\", \"salesperson\", \"store\", \"associate\", \"manager\", \"clerk\", \"shopkeeper\", \"merchandiser\",\n",
        "               \"assistant\", \"retail\", \"customer service\", \"sales\", \"inventory\", \"buyer\", \"stocker\", \"checkout\"],\n",
        "\n",
        "    \"Legal\": [\"lawyer\", \"attorney\", \"paralegal\", \"judge\", \"legal\", \"solicitor\", \"notary\", \"clerk\", \"litigator\",\n",
        "              \"advocate\", \"barrister\", \"counsel\", \"magistrate\", \"prosecutor\", \"defense\", \"compliance\"],\n",
        "\n",
        "    \"Hospitality\": [\"chef\", \"waiter\", \"bartender\", \"host\", \"manager\", \"receptionist\", \"housekeeper\", \"concierge\",\n",
        "                    \"caterer\", \"cook\", \"hotel\", \"tour guide\", \"event planner\", \"sous chef\", \"sommelier\", \"valet\"],\n",
        "\n",
        "    \"Construction\": [\"builder\", \"carpenter\", \"electrician\", \"plumber\", \"architect\", \"project manager\", \"site manager\",\n",
        "                     \"surveyor\", \"foreman\", \"bricklayer\", \"roofer\", \"civil engineer\", \"construction\", \"contractor\",\n",
        "                     \"inspector\", \"draftsman\"]\n",
        "}\n",
        "\n",
        "def assign_sector(x):\n",
        "    for key in sector_bag:\n",
        "        for role in sector_bag[key]:\n",
        "            if x.find(role) != -1:\n",
        "                return key\n",
        "    return \"Other\""
      ]
    },
    {
      "cell_type": "code",
      "execution_count": 27,
      "metadata": {
        "id": "kftAZBMRlavd"
      },
      "outputs": [],
      "source": [
        "df[\"job_sector\"] = df[\"job\"].apply(assign_sector)\n",
        "job = df[\"job_sector\"].value_counts().reset_index()\n"
      ]
    },
    {
      "cell_type": "code",
      "execution_count": 28,
      "metadata": {
        "colab": {
          "base_uri": "https://localhost:8080/",
          "height": 428
        },
        "id": "V_7KCLPDl1rN",
        "outputId": "bc6ebc09-fb14-47ee-a298-6d08884c8b88"
      },
      "outputs": [
        {
          "data": {
            "image/png": "[encoded data removed]",
            "text/plain": [
              "<Figure size 640x480 with 1 Axes>"
            ]
          },
          "metadata": {},
          "output_type": "display_data"
        }
      ],
      "source": [
        "plt.pie(x = job.get(\"count\"), labels = job.get(\"job_sector\"),autopct='%1.1f%%')\n",
        "plt.title(\"Different Job Sectors\")\n",
        "plt.show()"
      ]
    },
    {
      "cell_type": "code",
      "execution_count": 29,
      "metadata": {
        "id": "SSmLfeWXlatJ"
      },
      "outputs": [],
      "source": [
        "job_freq = df['job'].value_counts(normalize=True)\n",
        "df['job_encoded'] = df['job'].map(job_freq)"
      ]
    },
    {
      "cell_type": "code",
      "execution_count": 30,
      "metadata": {
        "colab": {
          "base_uri": "https://localhost:8080/",
          "height": 382
        },
        "id": "kxV6i_XUlaq4",
        "outputId": "ba890de0-fdcf-4a5c-9456-0989322f6cdd"
      },
      "outputs": [
        {
          "data": {
            "text/html": [
              "<div>\n",
              "<style scoped>\n",
              "    .dataframe tbody tr th:only-of-type {\n",
              "        vertical-align: middle;\n",
              "    }\n",
              "\n",
              "    .dataframe tbody tr th {\n",
              "        vertical-align: top;\n",
              "    }\n",
              "\n",
              "    .dataframe thead th {\n",
              "        text-align: right;\n",
              "    }\n",
              "</style>\n",
              "<table border=\"1\" class=\"dataframe\">\n",
              "  <thead>\n",
              "    <tr style=\"text-align: right;\">\n",
              "      <th></th>\n",
              "      <th>trans_date_trans_time</th>\n",
              "      <th>merchant</th>\n",
              "      <th>category</th>\n",
              "      <th>amt</th>\n",
              "      <th>gender</th>\n",
              "      <th>city</th>\n",
              "      <th>state</th>\n",
              "      <th>zip</th>\n",
              "      <th>city_pop</th>\n",
              "      <th>job</th>\n",
              "      <th>unix_time</th>\n",
              "      <th>is_fraud</th>\n",
              "      <th>age</th>\n",
              "      <th>distance</th>\n",
              "      <th>fraud_merchant_pct</th>\n",
              "      <th>merchant_ordinal</th>\n",
              "      <th>state_encoded</th>\n",
              "      <th>job_sector</th>\n",
              "      <th>job_encoded</th>\n",
              "    </tr>\n",
              "  </thead>\n",
              "  <tbody>\n",
              "    <tr>\n",
              "      <th>0</th>\n",
              "      <td>2019-01-01 00:00:18</td>\n",
              "      <td>fraud_Rippin, Kub and Mann</td>\n",
              "      <td>misc_net</td>\n",
              "      <td>4.97</td>\n",
              "      <td>F</td>\n",
              "      <td>Moravian Falls</td>\n",
              "      <td>NC</td>\n",
              "      <td>28654</td>\n",
              "      <td>3495</td>\n",
              "      <td>Psychologist, counselling</td>\n",
              "      <td>1325376018</td>\n",
              "      <td>0</td>\n",
              "      <td>36</td>\n",
              "      <td>78.597568</td>\n",
              "      <td>1.420679</td>\n",
              "      <td>599</td>\n",
              "      <td>0.023341</td>\n",
              "      <td>Legal</td>\n",
              "      <td>0.002734</td>\n",
              "    </tr>\n",
              "    <tr>\n",
              "      <th>1</th>\n",
              "      <td>2019-01-01 00:00:44</td>\n",
              "      <td>fraud_Heller, Gutmann and Zieme</td>\n",
              "      <td>grocery_pos</td>\n",
              "      <td>107.23</td>\n",
              "      <td>F</td>\n",
              "      <td>Orient</td>\n",
              "      <td>WA</td>\n",
              "      <td>99160</td>\n",
              "      <td>149</td>\n",
              "      <td>Special educational needs teacher</td>\n",
              "      <td>1325376044</td>\n",
              "      <td>0</td>\n",
              "      <td>46</td>\n",
              "      <td>30.212176</td>\n",
              "      <td>1.078706</td>\n",
              "      <td>557</td>\n",
              "      <td>0.014594</td>\n",
              "      <td>Education</td>\n",
              "      <td>0.003932</td>\n",
              "    </tr>\n",
              "    <tr>\n",
              "      <th>2</th>\n",
              "      <td>2019-01-01 00:00:51</td>\n",
              "      <td>fraud_Lind-Buckridge</td>\n",
              "      <td>entertainment</td>\n",
              "      <td>220.11</td>\n",
              "      <td>M</td>\n",
              "      <td>Malad City</td>\n",
              "      <td>ID</td>\n",
              "      <td>83252</td>\n",
              "      <td>4154</td>\n",
              "      <td>Nature conservation officer</td>\n",
              "      <td>1325376051</td>\n",
              "      <td>0</td>\n",
              "      <td>62</td>\n",
              "      <td>108.206083</td>\n",
              "      <td>0.211082</td>\n",
              "      <td>215</td>\n",
              "      <td>0.004276</td>\n",
              "      <td>Other</td>\n",
              "      <td>0.000394</td>\n",
              "    </tr>\n",
              "    <tr>\n",
              "      <th>3</th>\n",
              "      <td>2019-01-01 00:01:16</td>\n",
              "      <td>fraud_Kutch, Hermiston and Farrell</td>\n",
              "      <td>gas_transport</td>\n",
              "      <td>45.00</td>\n",
              "      <td>M</td>\n",
              "      <td>Boulder</td>\n",
              "      <td>MT</td>\n",
              "      <td>59632</td>\n",
              "      <td>1939</td>\n",
              "      <td>Patent attorney</td>\n",
              "      <td>1325376076</td>\n",
              "      <td>0</td>\n",
              "      <td>57</td>\n",
              "      <td>95.673231</td>\n",
              "      <td>0.344432</td>\n",
              "      <td>368</td>\n",
              "      <td>0.009065</td>\n",
              "      <td>Legal</td>\n",
              "      <td>0.001951</td>\n",
              "    </tr>\n",
              "    <tr>\n",
              "      <th>4</th>\n",
              "      <td>2019-01-01 00:03:06</td>\n",
              "      <td>fraud_Keeling-Crist</td>\n",
              "      <td>misc_pos</td>\n",
              "      <td>41.96</td>\n",
              "      <td>M</td>\n",
              "      <td>Doe Hill</td>\n",
              "      <td>VA</td>\n",
              "      <td>24433</td>\n",
              "      <td>99</td>\n",
              "      <td>Dance movement psychotherapist</td>\n",
              "      <td>1325376186</td>\n",
              "      <td>0</td>\n",
              "      <td>38</td>\n",
              "      <td>77.556744</td>\n",
              "      <td>0.376884</td>\n",
              "      <td>399</td>\n",
              "      <td>0.022558</td>\n",
              "      <td>Healthcare</td>\n",
              "      <td>0.001556</td>\n",
              "    </tr>\n",
              "  </tbody>\n",
              "</table>\n",
              "</div>"
            ],
            "text/plain": [
              "  trans_date_trans_time                            merchant       category  \\\n",
              "0   2019-01-01 00:00:18          fraud_Rippin, Kub and Mann       misc_net   \n",
              "1   2019-01-01 00:00:44     fraud_Heller, Gutmann and Zieme    grocery_pos   \n",
              "2   2019-01-01 00:00:51                fraud_Lind-Buckridge  entertainment   \n",
              "3   2019-01-01 00:01:16  fraud_Kutch, Hermiston and Farrell  gas_transport   \n",
              "4   2019-01-01 00:03:06                 fraud_Keeling-Crist       misc_pos   \n",
              "\n",
              "      amt gender            city state    zip  city_pop  \\\n",
              "0    4.97      F  Moravian Falls    NC  28654      3495   \n",
              "1  107.23      F          Orient    WA  99160       149   \n",
              "2  220.11      M      Malad City    ID  83252      4154   \n",
              "3   45.00      M         Boulder    MT  59632      1939   \n",
              "4   41.96      M        Doe Hill    VA  24433        99   \n",
              "\n",
              "                                 job   unix_time  is_fraud  age    distance  \\\n",
              "0          Psychologist, counselling  1325376018         0   36   78.597568   \n",
              "1  Special educational needs teacher  1325376044         0   46   30.212176   \n",
              "2        Nature conservation officer  1325376051         0   62  108.206083   \n",
              "3                    Patent attorney  1325376076         0   57   95.673231   \n",
              "4     Dance movement psychotherapist  1325376186         0   38   77.556744   \n",
              "\n",
              "   fraud_merchant_pct  merchant_ordinal  state_encoded  job_sector  \\\n",
              "0            1.420679               599       0.023341       Legal   \n",
              "1            1.078706               557       0.014594   Education   \n",
              "2            0.211082               215       0.004276       Other   \n",
              "3            0.344432               368       0.009065       Legal   \n",
              "4            0.376884               399       0.022558  Healthcare   \n",
              "\n",
              "   job_encoded  \n",
              "0     0.002734  \n",
              "1     0.003932  \n",
              "2     0.000394  \n",
              "3     0.001951  \n",
              "4     0.001556  "
            ]
          },
          "execution_count": 30,
          "metadata": {},
          "output_type": "execute_result"
        }
      ],
      "source": [
        "df.head()"
      ]
    },
    {
      "cell_type": "markdown",
      "metadata": {
        "id": "8eVJmxQ3mP8x"
      },
      "source": [
        "### Genders"
      ]
    },
    {
      "cell_type": "markdown",
      "metadata": {},
      "source": [
        "Let's convert the gender from Male/Female to 1/0"
      ]
    },
    {
      "cell_type": "code",
      "execution_count": 31,
      "metadata": {
        "id": "vAMDKRBbmNNS"
      },
      "outputs": [],
      "source": [
        "df[\"gender\"] = df[\"gender\"].apply(lambda x: int(x == \"M\"))"
      ]
    },
    {
      "cell_type": "code",
      "execution_count": 32,
      "metadata": {
        "id": "D9ZcyqZomNLM"
      },
      "outputs": [],
      "source": [
        "gender_counts = df['gender'].value_counts()\n",
        "gender_counts.index = gender_counts.index.map({1: 'Male', 0: 'Female'})\n"
      ]
    },
    {
      "cell_type": "code",
      "execution_count": 33,
      "metadata": {
        "colab": {
          "base_uri": "https://localhost:8080/",
          "height": 564
        },
        "id": "CAcxBtRprZ7g",
        "outputId": "92b7c890-76f1-488a-ede0-b192c6fd3bca"
      },
      "outputs": [
        {
          "data": {
            "image/png": "[encoded data removed]",
            "text/plain": [
              "<Figure size 800x600 with 1 Axes>"
            ]
          },
          "metadata": {},
          "output_type": "display_data"
        }
      ],
      "source": [
        "plt.figure(figsize=(8, 6))\n",
        "plt.bar(gender_counts.index, gender_counts.values, color=['pink', 'blue'])\n",
        "\n",
        "plt.title('Gender Distribution')\n",
        "plt.xlabel('Gender')\n",
        "plt.ylabel('Count')\n",
        "plt.show()"
      ]
    },
    {
      "cell_type": "markdown",
      "metadata": {
        "id": "5R7O1OmDoVHy"
      },
      "source": [
        "## Dates"
      ]
    },
    {
      "cell_type": "markdown",
      "metadata": {},
      "source": [
        "Let's find out the weekend and period of a day"
      ]
    },
    {
      "cell_type": "code",
      "execution_count": 34,
      "metadata": {
        "id": "jOnLrf2RoSRd"
      },
      "outputs": [],
      "source": [
        "df[\"trans_date_trans_time\"] = pd.to_datetime(df[\"trans_date_trans_time\"])"
      ]
    },
    {
      "cell_type": "code",
      "execution_count": 35,
      "metadata": {
        "id": "-W0B3j4GoSPE"
      },
      "outputs": [],
      "source": [
        "df[\"is_weekend\"] = df[\"trans_date_trans_time\"].dt.day_name().apply(lambda x : int((x == \"Friday\") | (x == \"Sunday\") | (x == \"Saturday\")))"
      ]
    },
    {
      "cell_type": "code",
      "execution_count": 36,
      "metadata": {
        "id": "SPpIqo-KoSMu"
      },
      "outputs": [],
      "source": [
        "def day_period(x):\n",
        "    if x >=0 and x < 6: return \"Night\"\n",
        "    elif x>= 6 and x <= 12: return \"Morning\"\n",
        "    elif x> 12 and x <= 15: return \"Afternoon\"\n",
        "    elif x> 15 and x <= 20: return \"Evening\"\n",
        "    elif x> 20 and x <= 24: return \"Night\"\n",
        "\n",
        "\n",
        "df[\"day_period\"] = df[\"trans_date_trans_time\"].dt.hour.apply(day_period)"
      ]
    },
    {
      "cell_type": "code",
      "execution_count": 37,
      "metadata": {
        "id": "ONM2OOSSoSK0"
      },
      "outputs": [],
      "source": [
        "df[\"trans_month\"] = df[\"trans_date_trans_time\"].dt.month_name()"
      ]
    },
    {
      "cell_type": "code",
      "execution_count": 38,
      "metadata": {
        "id": "aBiz7jENmNCF"
      },
      "outputs": [
        {
          "data": {
            "text/html": [
              "<div>\n",
              "<style scoped>\n",
              "    .dataframe tbody tr th:only-of-type {\n",
              "        vertical-align: middle;\n",
              "    }\n",
              "\n",
              "    .dataframe tbody tr th {\n",
              "        vertical-align: top;\n",
              "    }\n",
              "\n",
              "    .dataframe thead th {\n",
              "        text-align: right;\n",
              "    }\n",
              "</style>\n",
              "<table border=\"1\" class=\"dataframe\">\n",
              "  <thead>\n",
              "    <tr style=\"text-align: right;\">\n",
              "      <th></th>\n",
              "      <th>category</th>\n",
              "      <th>amt</th>\n",
              "      <th>gender</th>\n",
              "      <th>city_pop</th>\n",
              "      <th>is_fraud</th>\n",
              "      <th>age</th>\n",
              "      <th>distance</th>\n",
              "      <th>fraud_merchant_pct</th>\n",
              "      <th>merchant_ordinal</th>\n",
              "      <th>state_encoded</th>\n",
              "      <th>job_sector</th>\n",
              "      <th>job_encoded</th>\n",
              "      <th>is_weekend</th>\n",
              "      <th>day_period</th>\n",
              "      <th>trans_month</th>\n",
              "    </tr>\n",
              "  </thead>\n",
              "  <tbody>\n",
              "    <tr>\n",
              "      <th>0</th>\n",
              "      <td>misc_net</td>\n",
              "      <td>4.97</td>\n",
              "      <td>0</td>\n",
              "      <td>3495</td>\n",
              "      <td>0</td>\n",
              "      <td>36</td>\n",
              "      <td>78.597568</td>\n",
              "      <td>1.420679</td>\n",
              "      <td>599</td>\n",
              "      <td>0.023341</td>\n",
              "      <td>Legal</td>\n",
              "      <td>0.002734</td>\n",
              "      <td>0</td>\n",
              "      <td>Night</td>\n",
              "      <td>January</td>\n",
              "    </tr>\n",
              "    <tr>\n",
              "      <th>1</th>\n",
              "      <td>grocery_pos</td>\n",
              "      <td>107.23</td>\n",
              "      <td>0</td>\n",
              "      <td>149</td>\n",
              "      <td>0</td>\n",
              "      <td>46</td>\n",
              "      <td>30.212176</td>\n",
              "      <td>1.078706</td>\n",
              "      <td>557</td>\n",
              "      <td>0.014594</td>\n",
              "      <td>Education</td>\n",
              "      <td>0.003932</td>\n",
              "      <td>0</td>\n",
              "      <td>Night</td>\n",
              "      <td>January</td>\n",
              "    </tr>\n",
              "    <tr>\n",
              "      <th>2</th>\n",
              "      <td>entertainment</td>\n",
              "      <td>220.11</td>\n",
              "      <td>1</td>\n",
              "      <td>4154</td>\n",
              "      <td>0</td>\n",
              "      <td>62</td>\n",
              "      <td>108.206083</td>\n",
              "      <td>0.211082</td>\n",
              "      <td>215</td>\n",
              "      <td>0.004276</td>\n",
              "      <td>Other</td>\n",
              "      <td>0.000394</td>\n",
              "      <td>0</td>\n",
              "      <td>Night</td>\n",
              "      <td>January</td>\n",
              "    </tr>\n",
              "    <tr>\n",
              "      <th>3</th>\n",
              "      <td>gas_transport</td>\n",
              "      <td>45.00</td>\n",
              "      <td>1</td>\n",
              "      <td>1939</td>\n",
              "      <td>0</td>\n",
              "      <td>57</td>\n",
              "      <td>95.673231</td>\n",
              "      <td>0.344432</td>\n",
              "      <td>368</td>\n",
              "      <td>0.009065</td>\n",
              "      <td>Legal</td>\n",
              "      <td>0.001951</td>\n",
              "      <td>0</td>\n",
              "      <td>Night</td>\n",
              "      <td>January</td>\n",
              "    </tr>\n",
              "    <tr>\n",
              "      <th>4</th>\n",
              "      <td>misc_pos</td>\n",
              "      <td>41.96</td>\n",
              "      <td>1</td>\n",
              "      <td>99</td>\n",
              "      <td>0</td>\n",
              "      <td>38</td>\n",
              "      <td>77.556744</td>\n",
              "      <td>0.376884</td>\n",
              "      <td>399</td>\n",
              "      <td>0.022558</td>\n",
              "      <td>Healthcare</td>\n",
              "      <td>0.001556</td>\n",
              "      <td>0</td>\n",
              "      <td>Night</td>\n",
              "      <td>January</td>\n",
              "    </tr>\n",
              "  </tbody>\n",
              "</table>\n",
              "</div>"
            ],
            "text/plain": [
              "        category     amt  gender  city_pop  is_fraud  age    distance  \\\n",
              "0       misc_net    4.97       0      3495         0   36   78.597568   \n",
              "1    grocery_pos  107.23       0       149         0   46   30.212176   \n",
              "2  entertainment  220.11       1      4154         0   62  108.206083   \n",
              "3  gas_transport   45.00       1      1939         0   57   95.673231   \n",
              "4       misc_pos   41.96       1        99         0   38   77.556744   \n",
              "\n",
              "   fraud_merchant_pct  merchant_ordinal  state_encoded  job_sector  \\\n",
              "0            1.420679               599       0.023341       Legal   \n",
              "1            1.078706               557       0.014594   Education   \n",
              "2            0.211082               215       0.004276       Other   \n",
              "3            0.344432               368       0.009065       Legal   \n",
              "4            0.376884               399       0.022558  Healthcare   \n",
              "\n",
              "   job_encoded  is_weekend day_period trans_month  \n",
              "0     0.002734           0      Night     January  \n",
              "1     0.003932           0      Night     January  \n",
              "2     0.000394           0      Night     January  \n",
              "3     0.001951           0      Night     January  \n",
              "4     0.001556           0      Night     January  "
            ]
          },
          "execution_count": 38,
          "metadata": {},
          "output_type": "execute_result"
        }
      ],
      "source": [
        "df.drop(columns = [\"state\", \"city\", \"merchant\", \"zip\", \"unix_time\", \"job\", \"trans_date_trans_time\"], inplace = True)\n",
        "df.head()"
      ]
    },
    {
      "cell_type": "code",
      "execution_count": 40,
      "metadata": {
        "colab": {
          "base_uri": "https://localhost:8080/",
          "height": 673
        },
        "id": "lh80dTPepMev",
        "outputId": "b2853d7e-c5d1-47e1-cbfa-6619cf5648ef"
      },
      "outputs": [
        {
          "name": "stderr",
          "output_type": "stream",
          "text": [
            "/Library/Frameworks/Python.framework/Versions/3.11/lib/python3.11/site-packages/seaborn/_oldcore.py:1498: FutureWarning: is_categorical_dtype is deprecated and will be removed in a future version. Use isinstance(dtype, CategoricalDtype) instead\n",
            "  if pd.api.types.is_categorical_dtype(vector):\n",
            "/Library/Frameworks/Python.framework/Versions/3.11/lib/python3.11/site-packages/seaborn/_oldcore.py:1498: FutureWarning: is_categorical_dtype is deprecated and will be removed in a future version. Use isinstance(dtype, CategoricalDtype) instead\n",
            "  if pd.api.types.is_categorical_dtype(vector):\n",
            "/Library/Frameworks/Python.framework/Versions/3.11/lib/python3.11/site-packages/seaborn/_oldcore.py:1498: FutureWarning: is_categorical_dtype is deprecated and will be removed in a future version. Use isinstance(dtype, CategoricalDtype) instead\n",
            "  if pd.api.types.is_categorical_dtype(vector):\n"
          ]
        },
        {
          "data": {
            "image/png": "[encoded data removed]",
            "text/plain": [
              "<Figure size 800x600 with 1 Axes>"
            ]
          },
          "metadata": {},
          "output_type": "display_data"
        }
      ],
      "source": [
        "fraud_df = df[df['is_fraud'] == 1]\n",
        "\n",
        "# Create a count plot to visualize the number of fraud cases by weekend status\n",
        "plt.figure(figsize=(8, 6))\n",
        "sns.countplot(x='is_weekend', data=fraud_df, palette='Set2')\n",
        "\n",
        "# Add labels and title\n",
        "plt.title('Comparison of True Fraud Cases: Weekdays vs. Weekends')\n",
        "plt.xlabel('Weekend (0 = Weekday, 1 = Weekend)')\n",
        "plt.ylabel('Count of Fraud Cases')\n",
        "\n",
        "# Show the plot\n",
        "plt.show()"
      ]
    },
    {
      "cell_type": "markdown",
      "metadata": {},
      "source": [
        "Findings: Even though the weekend is split into 3 days (Fri, Sat, Sun), the number of fraud cases is still lower than on weekdays, by around 500 cases"
      ]
    },
    {
      "cell_type": "markdown",
      "metadata": {
        "id": "y2K1Bk29o8ZU"
      },
      "source": [
        "## Vizualization"
      ]
    },
    {
      "cell_type": "markdown",
      "metadata": {},
      "source": [
        "Let's split the dataset into 2 types: numerical type and categorical type"
      ]
    },
    {
      "cell_type": "code",
      "execution_count": 55,
      "metadata": {
        "id": "outgmouxpMco"
      },
      "outputs": [],
      "source": [
        "numerical = [\"amt\", \"city_pop\", \"distance\", \"age\", \"fraud_merchant_pct\", \"merchant_ordinal\", \"state_encoded\", \"job_encoded\", \"is_fraud\"]\n",
        "categorical = [col for col in df.columns if col not in numerical]"
      ]
    },
    {
      "cell_type": "code",
      "execution_count": 42,
      "metadata": {
        "colab": {
          "base_uri": "https://localhost:8080/",
          "height": 792
        },
        "id": "e7EIO_WmpMai",
        "outputId": "778f8d0e-f1ff-4ec3-a812-148ba051eb22"
      },
      "outputs": [
        {
          "name": "stderr",
          "output_type": "stream",
          "text": [
            "/Library/Frameworks/Python.framework/Versions/3.11/lib/python3.11/site-packages/seaborn/_oldcore.py:1498: FutureWarning: is_categorical_dtype is deprecated and will be removed in a future version. Use isinstance(dtype, CategoricalDtype) instead\n",
            "  if pd.api.types.is_categorical_dtype(vector):\n",
            "/Library/Frameworks/Python.framework/Versions/3.11/lib/python3.11/site-packages/seaborn/_oldcore.py:1498: FutureWarning: is_categorical_dtype is deprecated and will be removed in a future version. Use isinstance(dtype, CategoricalDtype) instead\n",
            "  if pd.api.types.is_categorical_dtype(vector):\n",
            "/Library/Frameworks/Python.framework/Versions/3.11/lib/python3.11/site-packages/seaborn/_oldcore.py:1498: FutureWarning: is_categorical_dtype is deprecated and will be removed in a future version. Use isinstance(dtype, CategoricalDtype) instead\n",
            "  if pd.api.types.is_categorical_dtype(vector):\n",
            "/Library/Frameworks/Python.framework/Versions/3.11/lib/python3.11/site-packages/seaborn/_oldcore.py:1498: FutureWarning: is_categorical_dtype is deprecated and will be removed in a future version. Use isinstance(dtype, CategoricalDtype) instead\n",
            "  if pd.api.types.is_categorical_dtype(vector):\n",
            "/Library/Frameworks/Python.framework/Versions/3.11/lib/python3.11/site-packages/seaborn/_oldcore.py:1498: FutureWarning: is_categorical_dtype is deprecated and will be removed in a future version. Use isinstance(dtype, CategoricalDtype) instead\n",
            "  if pd.api.types.is_categorical_dtype(vector):\n",
            "/Library/Frameworks/Python.framework/Versions/3.11/lib/python3.11/site-packages/seaborn/_oldcore.py:1498: FutureWarning: is_categorical_dtype is deprecated and will be removed in a future version. Use isinstance(dtype, CategoricalDtype) instead\n",
            "  if pd.api.types.is_categorical_dtype(vector):\n",
            "/Library/Frameworks/Python.framework/Versions/3.11/lib/python3.11/site-packages/seaborn/_oldcore.py:1498: FutureWarning: is_categorical_dtype is deprecated and will be removed in a future version. Use isinstance(dtype, CategoricalDtype) instead\n",
            "  if pd.api.types.is_categorical_dtype(vector):\n",
            "/Library/Frameworks/Python.framework/Versions/3.11/lib/python3.11/site-packages/seaborn/_oldcore.py:1498: FutureWarning: is_categorical_dtype is deprecated and will be removed in a future version. Use isinstance(dtype, CategoricalDtype) instead\n",
            "  if pd.api.types.is_categorical_dtype(vector):\n",
            "/Library/Frameworks/Python.framework/Versions/3.11/lib/python3.11/site-packages/seaborn/_oldcore.py:1498: FutureWarning: is_categorical_dtype is deprecated and will be removed in a future version. Use isinstance(dtype, CategoricalDtype) instead\n",
            "  if pd.api.types.is_categorical_dtype(vector):\n",
            "/Library/Frameworks/Python.framework/Versions/3.11/lib/python3.11/site-packages/seaborn/_oldcore.py:1498: FutureWarning: is_categorical_dtype is deprecated and will be removed in a future version. Use isinstance(dtype, CategoricalDtype) instead\n",
            "  if pd.api.types.is_categorical_dtype(vector):\n",
            "/Library/Frameworks/Python.framework/Versions/3.11/lib/python3.11/site-packages/seaborn/_oldcore.py:1498: FutureWarning: is_categorical_dtype is deprecated and will be removed in a future version. Use isinstance(dtype, CategoricalDtype) instead\n",
            "  if pd.api.types.is_categorical_dtype(vector):\n",
            "/Library/Frameworks/Python.framework/Versions/3.11/lib/python3.11/site-packages/seaborn/_oldcore.py:1498: FutureWarning: is_categorical_dtype is deprecated and will be removed in a future version. Use isinstance(dtype, CategoricalDtype) instead\n",
            "  if pd.api.types.is_categorical_dtype(vector):\n",
            "/Library/Frameworks/Python.framework/Versions/3.11/lib/python3.11/site-packages/seaborn/_oldcore.py:1498: FutureWarning: is_categorical_dtype is deprecated and will be removed in a future version. Use isinstance(dtype, CategoricalDtype) instead\n",
            "  if pd.api.types.is_categorical_dtype(vector):\n",
            "/Library/Frameworks/Python.framework/Versions/3.11/lib/python3.11/site-packages/seaborn/_oldcore.py:1498: FutureWarning: is_categorical_dtype is deprecated and will be removed in a future version. Use isinstance(dtype, CategoricalDtype) instead\n",
            "  if pd.api.types.is_categorical_dtype(vector):\n",
            "/Library/Frameworks/Python.framework/Versions/3.11/lib/python3.11/site-packages/seaborn/_oldcore.py:1498: FutureWarning: is_categorical_dtype is deprecated and will be removed in a future version. Use isinstance(dtype, CategoricalDtype) instead\n",
            "  if pd.api.types.is_categorical_dtype(vector):\n",
            "/Library/Frameworks/Python.framework/Versions/3.11/lib/python3.11/site-packages/seaborn/_oldcore.py:1498: FutureWarning: is_categorical_dtype is deprecated and will be removed in a future version. Use isinstance(dtype, CategoricalDtype) instead\n",
            "  if pd.api.types.is_categorical_dtype(vector):\n",
            "/Library/Frameworks/Python.framework/Versions/3.11/lib/python3.11/site-packages/seaborn/_oldcore.py:1498: FutureWarning: is_categorical_dtype is deprecated and will be removed in a future version. Use isinstance(dtype, CategoricalDtype) instead\n",
            "  if pd.api.types.is_categorical_dtype(vector):\n",
            "/Library/Frameworks/Python.framework/Versions/3.11/lib/python3.11/site-packages/seaborn/_oldcore.py:1498: FutureWarning: is_categorical_dtype is deprecated and will be removed in a future version. Use isinstance(dtype, CategoricalDtype) instead\n",
            "  if pd.api.types.is_categorical_dtype(vector):\n",
            "/Library/Frameworks/Python.framework/Versions/3.11/lib/python3.11/site-packages/seaborn/_oldcore.py:1498: FutureWarning: is_categorical_dtype is deprecated and will be removed in a future version. Use isinstance(dtype, CategoricalDtype) instead\n",
            "  if pd.api.types.is_categorical_dtype(vector):\n",
            "/Library/Frameworks/Python.framework/Versions/3.11/lib/python3.11/site-packages/seaborn/_oldcore.py:1498: FutureWarning: is_categorical_dtype is deprecated and will be removed in a future version. Use isinstance(dtype, CategoricalDtype) instead\n",
            "  if pd.api.types.is_categorical_dtype(vector):\n",
            "/Library/Frameworks/Python.framework/Versions/3.11/lib/python3.11/site-packages/seaborn/_oldcore.py:1498: FutureWarning: is_categorical_dtype is deprecated and will be removed in a future version. Use isinstance(dtype, CategoricalDtype) instead\n",
            "  if pd.api.types.is_categorical_dtype(vector):\n"
          ]
        },
        {
          "data": {
            "image/png": "[encoded data removed]",
            "text/plain": [
              "<Figure size 2000x1200 with 7 Axes>"
            ]
          },
          "metadata": {},
          "output_type": "display_data"
        }
      ],
      "source": [
        "plt.figure(figsize = (20, 12))\n",
        "cnt = 0\n",
        "for column in categorical:\n",
        "    cnt += 1\n",
        "    plt.subplot(4, 2, cnt)\n",
        "    sns.countplot(x = df[column])"
      ]
    },
    {
      "cell_type": "markdown",
      "metadata": {
        "id": "23qK4cVgsJRo"
      },
      "source": [
        "Univariate Analysis\n",
        "\n",
        "1) Categorical :\n",
        "\n",
        "Observations\n",
        " + Female is more than male in this dataset.\n",
        " + Weekend are more than half of weekdays.\n",
        " + Lot of transaction happened at Night\n",
        "\n",
        "2) Numerical\n",
        "\n",
        "Observations\n",
        " + No much observations, everything looks good with neglegible outliers\n"
      ]
    },
    {
      "cell_type": "code",
      "execution_count": 45,
      "metadata": {
        "colab": {
          "base_uri": "https://localhost:8080/",
          "height": 576
        },
        "id": "gnQpzpDUx2uH",
        "outputId": "8cbb1ba5-ab42-45b3-9ea8-4693a8ec3a06"
      },
      "outputs": [
        {
          "name": "stderr",
          "output_type": "stream",
          "text": [
            "/Library/Frameworks/Python.framework/Versions/3.11/lib/python3.11/site-packages/seaborn/_oldcore.py:1498: FutureWarning: is_categorical_dtype is deprecated and will be removed in a future version. Use isinstance(dtype, CategoricalDtype) instead\n",
            "  if pd.api.types.is_categorical_dtype(vector):\n",
            "/Library/Frameworks/Python.framework/Versions/3.11/lib/python3.11/site-packages/seaborn/_oldcore.py:1498: FutureWarning: is_categorical_dtype is deprecated and will be removed in a future version. Use isinstance(dtype, CategoricalDtype) instead\n",
            "  if pd.api.types.is_categorical_dtype(vector):\n",
            "/Library/Frameworks/Python.framework/Versions/3.11/lib/python3.11/site-packages/seaborn/_oldcore.py:1498: FutureWarning: is_categorical_dtype is deprecated and will be removed in a future version. Use isinstance(dtype, CategoricalDtype) instead\n",
            "  if pd.api.types.is_categorical_dtype(vector):\n"
          ]
        },
        {
          "data": {
            "text/plain": [
              "<Axes: xlabel='category', ylabel='is_fraud'>"
            ]
          },
          "execution_count": 45,
          "metadata": {},
          "output_type": "execute_result"
        },
        {
          "data": {
            "image/png": "[encoded data removed]",
            "text/plain": [
              "<Figure size 2000x800 with 1 Axes>"
            ]
          },
          "metadata": {},
          "output_type": "display_data"
        }
      ],
      "source": [
        "fraud_by_cate = df.groupby('category')['is_fraud'].sum().reset_index()\n",
        "\n",
        "plt.figure(figsize=(20, 8))\n",
        "sns.barplot(x='category', y='is_fraud', data=fraud_by_cate)"
      ]
    },
    {
      "cell_type": "markdown",
      "metadata": {
        "id": "YYQM87RYy5IH"
      },
      "source": [
        "+ Most fraud seems to be originating from transactions in the 'grocery_pos' and 'shopping_net' categories. This could be due to the high volume of transactions and the nature of online and in-store purchases, which are more prone to fraudulent activities.\n",
        "+ Following these, 'misc_net' and 'gas_transport' also show significant fraud, potentially due to less frequent but larger-value transactions, or because they involve services that can be harder to track and verify."
      ]
    },
    {
      "cell_type": "code",
      "execution_count": 56,
      "metadata": {
        "colab": {
          "base_uri": "https://localhost:8080/",
          "height": 824
        },
        "id": "6YeHOi7LxOAi",
        "outputId": "e8ea2d22-e144-47d7-e761-49662184fc54"
      },
      "outputs": [
        {
          "data": {
            "image/png": "[encoded data removed]",
            "text/plain": [
              "<Figure size 1000x800 with 2 Axes>"
            ]
          },
          "metadata": {},
          "output_type": "display_data"
        }
      ],
      "source": [
        "df_numerical = df[numerical]\n",
        "\n",
        "# Compute the correlation matrix\n",
        "corr_matrix = df_numerical.corr()\n",
        "\n",
        "# Plot the heatmap\n",
        "plt.figure(figsize=(10, 8))\n",
        "sns.heatmap(corr_matrix, annot=True, cmap='coolwarm', fmt='.2f', linewidths=0.5, square=True)\n",
        "\n",
        "# Add a title\n",
        "plt.title(\"Correlation Heatmap of Numerical Features\")\n",
        "\n",
        "# Show the plot\n",
        "plt.tight_layout()\n",
        "plt.show()"
      ]
    },
    {
      "cell_type": "markdown",
      "metadata": {},
      "source": [
        "1. Fraud Link:\n",
        "amt has a moderate positive link with fraud (0.22), suggesting larger transactions are more likely to be flagged as fraudulent, though not strongly.\n",
        "fraud_merchant_pct and merchant_ordinal are highly related, likely due to shared underlying data.\n",
        "\n",
        "2. Weak Links:\n",
        "Features like city_pop, distance, age, state_encoded, and job_encoded show little connection to fraud.\n",
        "\n",
        "* Important Feature:\n",
        "amt stands out as useful for identifying fraud, while other features may need advanced modeling to reveal hidden patterns."
      ]
    },
    {
      "cell_type": "code",
      "execution_count": 57,
      "metadata": {
        "id": "mJu_BLPfxN-Y"
      },
      "outputs": [],
      "source": [
        "df.drop(columns = [\"is_weekend\", \"job_sector\"], inplace = True) # drop as no related to find the fraud in transaction..."
      ]
    },
    {
      "cell_type": "code",
      "execution_count": 58,
      "metadata": {
        "id": "QZHavo3T4JVh"
      },
      "outputs": [],
      "source": [
        "oe = OrdinalEncoder(categories = [[\"January\", \"February\", \"March\", \"April\", \"May\", \"June\", \"July\", \"August\", \"September\", \"October\", \"November\", \"December\"]])\n",
        "oe_period = OrdinalEncoder(categories = [[\"Night\", \"Evening\", \"Afternoon\", \"Morning\"]])"
      ]
    },
    {
      "cell_type": "code",
      "execution_count": 59,
      "metadata": {
        "id": "A8GFytI74JTk"
      },
      "outputs": [
        {
          "name": "stderr",
          "output_type": "stream",
          "text": [
            "/Library/Frameworks/Python.framework/Versions/3.11/lib/python3.11/site-packages/sklearn/utils/validation.py:605: FutureWarning: is_sparse is deprecated and will be removed in a future version. Check `isinstance(dtype, pd.SparseDtype)` instead.\n",
            "  if is_sparse(pd_dtype):\n",
            "/Library/Frameworks/Python.framework/Versions/3.11/lib/python3.11/site-packages/sklearn/utils/validation.py:614: FutureWarning: is_sparse is deprecated and will be removed in a future version. Check `isinstance(dtype, pd.SparseDtype)` instead.\n",
            "  if is_sparse(pd_dtype) or not is_extension_array_dtype(pd_dtype):\n",
            "/Library/Frameworks/Python.framework/Versions/3.11/lib/python3.11/site-packages/sklearn/utils/validation.py:605: FutureWarning: is_sparse is deprecated and will be removed in a future version. Check `isinstance(dtype, pd.SparseDtype)` instead.\n",
            "  if is_sparse(pd_dtype):\n",
            "/Library/Frameworks/Python.framework/Versions/3.11/lib/python3.11/site-packages/sklearn/utils/validation.py:614: FutureWarning: is_sparse is deprecated and will be removed in a future version. Check `isinstance(dtype, pd.SparseDtype)` instead.\n",
            "  if is_sparse(pd_dtype) or not is_extension_array_dtype(pd_dtype):\n",
            "/Library/Frameworks/Python.framework/Versions/3.11/lib/python3.11/site-packages/sklearn/utils/validation.py:605: FutureWarning: is_sparse is deprecated and will be removed in a future version. Check `isinstance(dtype, pd.SparseDtype)` instead.\n",
            "  if is_sparse(pd_dtype):\n",
            "/Library/Frameworks/Python.framework/Versions/3.11/lib/python3.11/site-packages/sklearn/utils/validation.py:614: FutureWarning: is_sparse is deprecated and will be removed in a future version. Check `isinstance(dtype, pd.SparseDtype)` instead.\n",
            "  if is_sparse(pd_dtype) or not is_extension_array_dtype(pd_dtype):\n",
            "/Library/Frameworks/Python.framework/Versions/3.11/lib/python3.11/site-packages/sklearn/utils/validation.py:605: FutureWarning: is_sparse is deprecated and will be removed in a future version. Check `isinstance(dtype, pd.SparseDtype)` instead.\n",
            "  if is_sparse(pd_dtype):\n",
            "/Library/Frameworks/Python.framework/Versions/3.11/lib/python3.11/site-packages/sklearn/utils/validation.py:614: FutureWarning: is_sparse is deprecated and will be removed in a future version. Check `isinstance(dtype, pd.SparseDtype)` instead.\n",
            "  if is_sparse(pd_dtype) or not is_extension_array_dtype(pd_dtype):\n"
          ]
        }
      ],
      "source": [
        "df[\"trans_month\"] = oe.fit_transform(df[[\"trans_month\"]])\n",
        "df[\"day_period\"] = oe_period.fit_transform(df[[\"day_period\"]])"
      ]
    },
    {
      "cell_type": "code",
      "execution_count": 60,
      "metadata": {
        "id": "H-Q-P3xa6Smh"
      },
      "outputs": [],
      "source": [
        "df.drop(columns = [\"category\"], inplace = True)\n",
        "final_df = df"
      ]
    },
    {
      "cell_type": "code",
      "execution_count": 61,
      "metadata": {
        "colab": {
          "base_uri": "https://localhost:8080/",
          "height": 206
        },
        "id": "8AyadQ0j4JRf",
        "outputId": "dc9a80a2-992a-46df-b71e-a18b6bf82d27"
      },
      "outputs": [
        {
          "data": {
            "text/html": [
              "<div>\n",
              "<style scoped>\n",
              "    .dataframe tbody tr th:only-of-type {\n",
              "        vertical-align: middle;\n",
              "    }\n",
              "\n",
              "    .dataframe tbody tr th {\n",
              "        vertical-align: top;\n",
              "    }\n",
              "\n",
              "    .dataframe thead th {\n",
              "        text-align: right;\n",
              "    }\n",
              "</style>\n",
              "<table border=\"1\" class=\"dataframe\">\n",
              "  <thead>\n",
              "    <tr style=\"text-align: right;\">\n",
              "      <th></th>\n",
              "      <th>amt</th>\n",
              "      <th>gender</th>\n",
              "      <th>city_pop</th>\n",
              "      <th>is_fraud</th>\n",
              "      <th>age</th>\n",
              "      <th>distance</th>\n",
              "      <th>fraud_merchant_pct</th>\n",
              "      <th>merchant_ordinal</th>\n",
              "      <th>state_encoded</th>\n",
              "      <th>job_encoded</th>\n",
              "      <th>day_period</th>\n",
              "      <th>trans_month</th>\n",
              "    </tr>\n",
              "  </thead>\n",
              "  <tbody>\n",
              "    <tr>\n",
              "      <th>0</th>\n",
              "      <td>4.97</td>\n",
              "      <td>0</td>\n",
              "      <td>3495</td>\n",
              "      <td>0</td>\n",
              "      <td>36</td>\n",
              "      <td>78.597568</td>\n",
              "      <td>1.420679</td>\n",
              "      <td>599</td>\n",
              "      <td>0.023341</td>\n",
              "      <td>0.002734</td>\n",
              "      <td>0.0</td>\n",
              "      <td>0.0</td>\n",
              "    </tr>\n",
              "    <tr>\n",
              "      <th>1</th>\n",
              "      <td>107.23</td>\n",
              "      <td>0</td>\n",
              "      <td>149</td>\n",
              "      <td>0</td>\n",
              "      <td>46</td>\n",
              "      <td>30.212176</td>\n",
              "      <td>1.078706</td>\n",
              "      <td>557</td>\n",
              "      <td>0.014594</td>\n",
              "      <td>0.003932</td>\n",
              "      <td>0.0</td>\n",
              "      <td>0.0</td>\n",
              "    </tr>\n",
              "    <tr>\n",
              "      <th>2</th>\n",
              "      <td>220.11</td>\n",
              "      <td>1</td>\n",
              "      <td>4154</td>\n",
              "      <td>0</td>\n",
              "      <td>62</td>\n",
              "      <td>108.206083</td>\n",
              "      <td>0.211082</td>\n",
              "      <td>215</td>\n",
              "      <td>0.004276</td>\n",
              "      <td>0.000394</td>\n",
              "      <td>0.0</td>\n",
              "      <td>0.0</td>\n",
              "    </tr>\n",
              "    <tr>\n",
              "      <th>3</th>\n",
              "      <td>45.00</td>\n",
              "      <td>1</td>\n",
              "      <td>1939</td>\n",
              "      <td>0</td>\n",
              "      <td>57</td>\n",
              "      <td>95.673231</td>\n",
              "      <td>0.344432</td>\n",
              "      <td>368</td>\n",
              "      <td>0.009065</td>\n",
              "      <td>0.001951</td>\n",
              "      <td>0.0</td>\n",
              "      <td>0.0</td>\n",
              "    </tr>\n",
              "    <tr>\n",
              "      <th>4</th>\n",
              "      <td>41.96</td>\n",
              "      <td>1</td>\n",
              "      <td>99</td>\n",
              "      <td>0</td>\n",
              "      <td>38</td>\n",
              "      <td>77.556744</td>\n",
              "      <td>0.376884</td>\n",
              "      <td>399</td>\n",
              "      <td>0.022558</td>\n",
              "      <td>0.001556</td>\n",
              "      <td>0.0</td>\n",
              "      <td>0.0</td>\n",
              "    </tr>\n",
              "  </tbody>\n",
              "</table>\n",
              "</div>"
            ],
            "text/plain": [
              "      amt  gender  city_pop  is_fraud  age    distance  fraud_merchant_pct  \\\n",
              "0    4.97       0      3495         0   36   78.597568            1.420679   \n",
              "1  107.23       0       149         0   46   30.212176            1.078706   \n",
              "2  220.11       1      4154         0   62  108.206083            0.211082   \n",
              "3   45.00       1      1939         0   57   95.673231            0.344432   \n",
              "4   41.96       1        99         0   38   77.556744            0.376884   \n",
              "\n",
              "   merchant_ordinal  state_encoded  job_encoded  day_period  trans_month  \n",
              "0               599       0.023341     0.002734         0.0          0.0  \n",
              "1               557       0.014594     0.003932         0.0          0.0  \n",
              "2               215       0.004276     0.000394         0.0          0.0  \n",
              "3               368       0.009065     0.001951         0.0          0.0  \n",
              "4               399       0.022558     0.001556         0.0          0.0  "
            ]
          },
          "execution_count": 61,
          "metadata": {},
          "output_type": "execute_result"
        }
      ],
      "source": [
        "final_df.head()"
      ]
    },
    {
      "cell_type": "markdown",
      "metadata": {},
      "source": [
        "-> Based on the analysis, there is a huge gap between the number of non-fraud and fraud cases in the dataset. We can use unsupervised learning to address this problem by identifying anomalies and flagging fraud when it reaches a certain threshold."
      ]
    },
    {
      "cell_type": "markdown",
      "metadata": {},
      "source": [
        "## 2. Traning Model"
      ]
    },
    {
      "cell_type": "code",
      "execution_count": 62,
      "metadata": {
        "colab": {
          "base_uri": "https://localhost:8080/",
          "height": 206
        },
        "id": "SktlUHyP4JO_",
        "outputId": "85b22218-2ce3-415e-c1ec-ec219f797e4a"
      },
      "outputs": [
        {
          "data": {
            "text/html": [
              "<div>\n",
              "<style scoped>\n",
              "    .dataframe tbody tr th:only-of-type {\n",
              "        vertical-align: middle;\n",
              "    }\n",
              "\n",
              "    .dataframe tbody tr th {\n",
              "        vertical-align: top;\n",
              "    }\n",
              "\n",
              "    .dataframe thead th {\n",
              "        text-align: right;\n",
              "    }\n",
              "</style>\n",
              "<table border=\"1\" class=\"dataframe\">\n",
              "  <thead>\n",
              "    <tr style=\"text-align: right;\">\n",
              "      <th></th>\n",
              "      <th>amt</th>\n",
              "      <th>gender</th>\n",
              "      <th>city_pop</th>\n",
              "      <th>age</th>\n",
              "      <th>distance</th>\n",
              "      <th>fraud_merchant_pct</th>\n",
              "      <th>merchant_ordinal</th>\n",
              "      <th>state_encoded</th>\n",
              "      <th>job_encoded</th>\n",
              "      <th>day_period</th>\n",
              "      <th>trans_month</th>\n",
              "    </tr>\n",
              "  </thead>\n",
              "  <tbody>\n",
              "    <tr>\n",
              "      <th>0</th>\n",
              "      <td>4.97</td>\n",
              "      <td>0</td>\n",
              "      <td>3495</td>\n",
              "      <td>36</td>\n",
              "      <td>78.597568</td>\n",
              "      <td>1.420679</td>\n",
              "      <td>599</td>\n",
              "      <td>0.023341</td>\n",
              "      <td>0.002734</td>\n",
              "      <td>0.0</td>\n",
              "      <td>0.0</td>\n",
              "    </tr>\n",
              "    <tr>\n",
              "      <th>1</th>\n",
              "      <td>107.23</td>\n",
              "      <td>0</td>\n",
              "      <td>149</td>\n",
              "      <td>46</td>\n",
              "      <td>30.212176</td>\n",
              "      <td>1.078706</td>\n",
              "      <td>557</td>\n",
              "      <td>0.014594</td>\n",
              "      <td>0.003932</td>\n",
              "      <td>0.0</td>\n",
              "      <td>0.0</td>\n",
              "    </tr>\n",
              "    <tr>\n",
              "      <th>2</th>\n",
              "      <td>220.11</td>\n",
              "      <td>1</td>\n",
              "      <td>4154</td>\n",
              "      <td>62</td>\n",
              "      <td>108.206083</td>\n",
              "      <td>0.211082</td>\n",
              "      <td>215</td>\n",
              "      <td>0.004276</td>\n",
              "      <td>0.000394</td>\n",
              "      <td>0.0</td>\n",
              "      <td>0.0</td>\n",
              "    </tr>\n",
              "    <tr>\n",
              "      <th>3</th>\n",
              "      <td>45.00</td>\n",
              "      <td>1</td>\n",
              "      <td>1939</td>\n",
              "      <td>57</td>\n",
              "      <td>95.673231</td>\n",
              "      <td>0.344432</td>\n",
              "      <td>368</td>\n",
              "      <td>0.009065</td>\n",
              "      <td>0.001951</td>\n",
              "      <td>0.0</td>\n",
              "      <td>0.0</td>\n",
              "    </tr>\n",
              "    <tr>\n",
              "      <th>4</th>\n",
              "      <td>41.96</td>\n",
              "      <td>1</td>\n",
              "      <td>99</td>\n",
              "      <td>38</td>\n",
              "      <td>77.556744</td>\n",
              "      <td>0.376884</td>\n",
              "      <td>399</td>\n",
              "      <td>0.022558</td>\n",
              "      <td>0.001556</td>\n",
              "      <td>0.0</td>\n",
              "      <td>0.0</td>\n",
              "    </tr>\n",
              "  </tbody>\n",
              "</table>\n",
              "</div>"
            ],
            "text/plain": [
              "      amt  gender  city_pop  age    distance  fraud_merchant_pct  \\\n",
              "0    4.97       0      3495   36   78.597568            1.420679   \n",
              "1  107.23       0       149   46   30.212176            1.078706   \n",
              "2  220.11       1      4154   62  108.206083            0.211082   \n",
              "3   45.00       1      1939   57   95.673231            0.344432   \n",
              "4   41.96       1        99   38   77.556744            0.376884   \n",
              "\n",
              "   merchant_ordinal  state_encoded  job_encoded  day_period  trans_month  \n",
              "0               599       0.023341     0.002734         0.0          0.0  \n",
              "1               557       0.014594     0.003932         0.0          0.0  \n",
              "2               215       0.004276     0.000394         0.0          0.0  \n",
              "3               368       0.009065     0.001951         0.0          0.0  \n",
              "4               399       0.022558     0.001556         0.0          0.0  "
            ]
          },
          "execution_count": 62,
          "metadata": {},
          "output_type": "execute_result"
        }
      ],
      "source": [
        "X_train = final_df.drop(columns=['is_fraud'])\n",
        "y_train = final_df['is_fraud'] # For evaluation\n",
        "\n",
        "X_train.head()"
      ]
    },
    {
      "cell_type": "code",
      "execution_count": 63,
      "metadata": {
        "colab": {
          "base_uri": "https://localhost:8080/"
        },
        "id": "rwR_qKUI6-Jq",
        "outputId": "21a9a374-a054-4de8-d7a2-4db3954a9c56"
      },
      "outputs": [
        {
          "name": "stdout",
          "output_type": "stream",
          "text": [
            "<class 'pandas.core.frame.DataFrame'>\n",
            "RangeIndex: 1296675 entries, 0 to 1296674\n",
            "Data columns (total 11 columns):\n",
            " #   Column              Non-Null Count    Dtype  \n",
            "---  ------              --------------    -----  \n",
            " 0   amt                 1296675 non-null  float64\n",
            " 1   gender              1296675 non-null  int64  \n",
            " 2   city_pop            1296675 non-null  int64  \n",
            " 3   age                 1296675 non-null  int64  \n",
            " 4   distance            1296675 non-null  float64\n",
            " 5   fraud_merchant_pct  1296675 non-null  float64\n",
            " 6   merchant_ordinal    1296675 non-null  int64  \n",
            " 7   state_encoded       1296675 non-null  float64\n",
            " 8   job_encoded         1296675 non-null  float64\n",
            " 9   day_period          1296675 non-null  float64\n",
            " 10  trans_month         1296675 non-null  float64\n",
            "dtypes: float64(7), int64(4)\n",
            "memory usage: 108.8 MB\n"
          ]
        }
      ],
      "source": [
        "X_train.info()"
      ]
    },
    {
      "cell_type": "code",
      "execution_count": null,
      "metadata": {},
      "outputs": [],
      "source": [
        "# Standardize your data\n",
        "scaler = StandardScaler()\n",
        "X_train_scaled = scaler.fit_transform(X_train)"
      ]
    },
    {
      "cell_type": "code",
      "execution_count": null,
      "metadata": {},
      "outputs": [],
      "source": [
        "# Reshape for LSTM: (samples, timesteps, features)\n",
        "timesteps = 1\n",
        "input_dim = X_train_scaled.shape[1]\n",
        "\n",
        "# Reshape the data for LSTM input\n",
        "X_train_reshaped = X_train_scaled.reshape((X_train_scaled.shape[0], timesteps, input_dim))"
      ]
    },
    {
      "cell_type": "code",
      "execution_count": null,
      "metadata": {},
      "outputs": [],
      "source": [
        "# Build the LSTM Autoencoder model\n",
        "input_layer = Input(shape=(timesteps, input_dim))\n",
        "encoder = LSTM(16, activation='relu', return_sequences=True)(input_layer)\n",
        "encoder = LSTM(8, activation='relu', return_sequences=False)(encoder)\n",
        "decoder = RepeatVector(timesteps)(encoder)\n",
        "decoder = LSTM(8, activation='relu', return_sequences=True)(decoder)\n",
        "decoder = LSTM(16, activation='relu', return_sequences=True)(decoder)\n",
        "output_layer = TimeDistributed(Dense(input_dim))(decoder)\n",
        "\n",
        "autoencoder = Model(inputs=input_layer, outputs=output_layer)\n",
        "autoencoder.compile(optimizer=Adam(learning_rate=0.01), loss='mean_squared_error')"
      ]
    },
    {
      "cell_type": "code",
      "execution_count": 106,
      "metadata": {
        "colab": {
          "base_uri": "https://localhost:8080/"
        },
        "id": "ttxXDb747JwM",
        "outputId": "8d3daaed-f1b7-480e-8490-164c8da6cb0e"
      },
      "outputs": [
        {
          "name": "stdout",
          "output_type": "stream",
          "text": [
            "Epoch 1/10\n",
            "\u001b[1m32417/32417\u001b[0m \u001b[32m━━━━━━━━━━━━━━━━━━━━\u001b[0m\u001b[37m\u001b[0m \u001b[1m206s\u001b[0m 6ms/step - loss: 0.1513 - val_loss: 0.0679\n",
            "Epoch 2/10\n",
            "\u001b[1m32417/32417\u001b[0m \u001b[32m━━━━━━━━━━━━━━━━━━━━\u001b[0m\u001b[37m\u001b[0m \u001b[1m212s\u001b[0m 6ms/step - loss: 0.0794 - val_loss: 0.0798\n",
            "Epoch 3/10\n",
            "\u001b[1m32417/32417\u001b[0m \u001b[32m━━━━━━━━━━━━━━━━━━━━\u001b[0m\u001b[37m\u001b[0m \u001b[1m209s\u001b[0m 6ms/step - loss: 0.0853 - val_loss: 0.0429\n",
            "Epoch 4/10\n",
            "\u001b[1m32417/32417\u001b[0m \u001b[32m━━━━━━━━━━━━━━━━━━━━\u001b[0m\u001b[37m\u001b[0m \u001b[1m256s\u001b[0m 6ms/step - loss: 0.0519 - val_loss: 0.0426\n",
            "Epoch 5/10\n",
            "\u001b[1m32417/32417\u001b[0m \u001b[32m━━━━━━━━━━━━━━━━━━━━\u001b[0m\u001b[37m\u001b[0m \u001b[1m256s\u001b[0m 6ms/step - loss: 0.0813 - val_loss: 0.0480\n",
            "Epoch 6/10\n",
            "\u001b[1m32417/32417\u001b[0m \u001b[32m━━━━━━━━━━━━━━━━━━━━\u001b[0m\u001b[37m\u001b[0m \u001b[1m201s\u001b[0m 6ms/step - loss: 0.0487 - val_loss: 0.0501\n",
            "Epoch 7/10\n",
            "\u001b[1m32417/32417\u001b[0m \u001b[32m━━━━━━━━━━━━━━━━━━━━\u001b[0m\u001b[37m\u001b[0m \u001b[1m200s\u001b[0m 6ms/step - loss: 0.0981 - val_loss: 0.0440\n",
            "Epoch 8/10\n",
            "\u001b[1m32417/32417\u001b[0m \u001b[32m━━━━━━━━━━━━━━━━━━━━\u001b[0m\u001b[37m\u001b[0m \u001b[1m204s\u001b[0m 6ms/step - loss: 0.0825 - val_loss: 0.0404\n",
            "Epoch 9/10\n",
            "\u001b[1m32417/32417\u001b[0m \u001b[32m━━━━━━━━━━━━━━━━━━━━\u001b[0m\u001b[37m\u001b[0m \u001b[1m196s\u001b[0m 6ms/step - loss: 0.0437 - val_loss: 0.0981\n",
            "Epoch 10/10\n",
            "\u001b[1m32417/32417\u001b[0m \u001b[32m━━━━━━━━━━━━━━━━━━━━\u001b[0m\u001b[37m\u001b[0m \u001b[1m217s\u001b[0m 6ms/step - loss: 0.0775 - val_loss: 0.0548\n",
            "\u001b[1m40522/40522\u001b[0m \u001b[32m━━━━━━━━━━━━━━━━━━━━\u001b[0m\u001b[37m\u001b[0m \u001b[1m90s\u001b[0m 2ms/step\n"
          ]
        }
      ],
      "source": [
        "# Train and predict\n",
        "autoencoder.fit(X_train_reshaped, X_train_reshaped, epochs=10, batch_size=32, validation_split=0.2)\n",
        "X_train_reconstructed = autoencoder.predict(X_train_reshaped)"
      ]
    },
    {
      "cell_type": "code",
      "execution_count": null,
      "metadata": {},
      "outputs": [],
      "source": [
        "# Calculate the reconstruction error (Mean Squared Error)\n",
        "reconstruction_error = np.mean(np.square(X_train_reshaped - X_train_reconstructed), axis=1)"
      ]
    },
    {
      "cell_type": "code",
      "execution_count": null,
      "metadata": {},
      "outputs": [],
      "source": [
        "# Threshold\n",
        "threshold = np.percentile(reconstruction_error, 96)\n",
        "fraud_predictions = (reconstruction_error > threshold).astype(int)"
      ]
    },
    {
      "cell_type": "code",
      "execution_count": null,
      "metadata": {},
      "outputs": [],
      "source": [
        "fraud_predictions_binary = np.mean(fraud_predictions, axis=1)\n",
        "fraud_predictions_binary = (fraud_predictions_binary > threshold).astype(int)"
      ]
    },
    {
      "cell_type": "code",
      "execution_count": 152,
      "metadata": {
        "colab": {
          "base_uri": "https://localhost:8080/"
        },
        "id": "3dA03g9w7gYh",
        "outputId": "378e70b6-f844-494d-a55a-d3910adbe7fc"
      },
      "outputs": [
        {
          "name": "stdout",
          "output_type": "stream",
          "text": [
            "Accuracy of train set: 0.9124\n"
          ]
        }
      ],
      "source": [
        "accuracy = accuracy_score(y_train, fraud_predictions_binary)\n",
        "print(f'Accuracy of train set: {accuracy:.4f}')"
      ]
    },
    {
      "cell_type": "markdown",
      "metadata": {},
      "source": [
        "We achieved 91% accuracy in distinguishing between non-fraud and fraud transactions. Although the accuracy is high, the number of non-fraud cases is too large, which may make the fraud prediction unreliable. Let's evaluate only the fraud cases..."
      ]
    },
    {
      "cell_type": "code",
      "execution_count": null,
      "metadata": {},
      "outputs": [],
      "source": [
        "# Filter the rows where y_train is 1 (fraudulent transactions)\n",
        "fraud_indices = y_train == 1 \n",
        "\n",
        "# Filter fraud_predictions_binary to only include fraud cases\n",
        "y_train_fraud = y_train[fraud_indices]\n",
        "fraud_predictions_fraud = fraud_predictions_binary[fraud_indices]"
      ]
    },
    {
      "cell_type": "code",
      "execution_count": 153,
      "metadata": {
        "colab": {
          "base_uri": "https://localhost:8080/"
        },
        "id": "qJ7WLtFS0zNC",
        "outputId": "962ea3d1-5dfd-4d1f-b739-75b0b5e9c934"
      },
      "outputs": [
        {
          "name": "stdout",
          "output_type": "stream",
          "text": [
            "Accuracy train set on fraudulent transactions: 0.6033\n"
          ]
        }
      ],
      "source": [
        "accuracy_fraud = accuracy_score(y_train_fraud, fraud_predictions_fraud)\n",
        "print(f'Accuracy train set on fraudulent transactions: {accuracy_fraud:.4f}')"
      ]
    },
    {
      "cell_type": "markdown",
      "metadata": {},
      "source": [
        "We achieved 60% accuracy in detecting fraud cases. Bravo!"
      ]
    },
    {
      "cell_type": "markdown",
      "metadata": {
        "id": "shHhjo-dS_Gn"
      },
      "source": [
        "## Evaluate on test batch"
      ]
    },
    {
      "cell_type": "code",
      "execution_count": 133,
      "metadata": {
        "id": "-zqKNMOkV1yE"
      },
      "outputs": [],
      "source": [
        "def preprocess_fraud_data(sector_bag):\n",
        "    current_year = datetime.now().year\n",
        "    df = pd.read_csv(\"/content/fraud-detection/fraudTest.csv\")\n",
        "\n",
        "    # Drop unnecessary columns\n",
        "    df.drop(columns=[df.columns[0], df.columns[2], df.columns[6], df.columns[7], df.columns[9], \"trans_num\"], inplace=True)\n",
        "\n",
        "    # Age\n",
        "    df['dob'] = pd.to_datetime(df['dob'])\n",
        "    df['age'] = current_year - df['dob'].dt.year\n",
        "    df.drop(columns=[\"dob\"], inplace=True)\n",
        "\n",
        "    # Distance\n",
        "    df[\"distance\"] = df.apply(lambda row: haversine_distance(row['lat'], row['long'], row['merch_lat'], row['merch_long']), axis=1)\n",
        "    df.drop(columns=[\"lat\", \"long\", \"merch_lat\", \"merch_long\"], inplace=True)\n",
        "\n",
        "    # Merchant fraud percentage\n",
        "    merchant_groups = df.groupby('merchant')\n",
        "    fraud_percentage_dict = {}\n",
        "\n",
        "    for merchant, group in merchant_groups:\n",
        "        total_trans = group.shape[0]\n",
        "        total_fraud_trans = group[group[\"is_fraud\"] == 1].shape[0]\n",
        "        fraud_percentage_dict[merchant] = (total_fraud_trans / total_trans) * 100\n",
        "\n",
        "    df[\"fraud_merchant_pct\"] = df[\"merchant\"].map(fraud_percentage_dict)\n",
        "    sorted_fraud_percentage = sorted(fraud_percentage_dict.items(), key=lambda x: x[1])\n",
        "\n",
        "    merchant_ordinal_dict = {merchant: rank + 1 for rank, (merchant, _) in enumerate(sorted_fraud_percentage)}\n",
        "    df[\"merchant_ordinal\"] = df[\"merchant\"].map(merchant_ordinal_dict)\n",
        "\n",
        "    # State encode\n",
        "    state_freq = df['state'].value_counts(normalize=True)\n",
        "    df['state_encoded'] = df['state'].map(state_freq)\n",
        "\n",
        "    # Job encode\n",
        "    job_freq = df['job'].value_counts(normalize=True)\n",
        "    df['job_encoded'] = df[\"job\"].map(job_freq)\n",
        "\n",
        "    # Gender encode\n",
        "    df[\"gender\"] = df[\"gender\"].apply(lambda x: int(x == \"M\"))\n",
        "    df.drop(columns=[\"state\", \"city\", \"merchant\", \"zip\", \"unix_time\", \"job\", \"category\"], inplace=True)\n",
        "\n",
        "    # Date features\n",
        "    df[\"trans_date_trans_time\"] = pd.to_datetime(df[\"trans_date_trans_time\"])\n",
        "    df[\"day_period\"] = df[\"trans_date_trans_time\"].dt.hour.apply(day_period)\n",
        "    df[\"trans_month\"] = df[\"trans_date_trans_time\"].dt.month_name()\n",
        "    df.drop(columns=[\"trans_date_trans_time\"], inplace=True)\n",
        "\n",
        "    # Ordinal encoding for month and day period\n",
        "    oe = OrdinalEncoder(categories=[[\"January\", \"February\", \"March\", \"April\", \"May\", \"June\", \"July\", \"August\", \"September\", \"October\", \"November\", \"December\"]])\n",
        "    oe_period = OrdinalEncoder(categories=[[\"Night\", \"Evening\", \"Afternoon\", \"Morning\"]])\n",
        "    df[\"trans_month\"] = oe.fit_transform(df[[\"trans_month\"]])\n",
        "    df[\"day_period\"] = oe_period.fit_transform(df[[\"day_period\"]])\n",
        "\n",
        "\n",
        "\n",
        "    X_test = df.drop(columns=['is_fraud'])\n",
        "    y_test = df['is_fraud']\n",
        "\n",
        "    return X_test, y_test\n"
      ]
    },
    {
      "cell_type": "code",
      "execution_count": 134,
      "metadata": {
        "id": "6DFszcss7khZ"
      },
      "outputs": [],
      "source": [
        "X_test, y_test = preprocess_fraud_data(sector_bag)"
      ]
    },
    {
      "cell_type": "code",
      "execution_count": 135,
      "metadata": {
        "colab": {
          "base_uri": "https://localhost:8080/"
        },
        "id": "DMWbPa1g7kfS",
        "outputId": "c6f177b2-f5ab-4dc9-c828-e8c492a7e60b"
      },
      "outputs": [
        {
          "name": "stdout",
          "output_type": "stream",
          "text": [
            "\u001b[1m17367/17367\u001b[0m \u001b[32m━━━━━━━━━━━━━━━━━━━━\u001b[0m\u001b[37m\u001b[0m \u001b[1m62s\u001b[0m 4ms/step\n"
          ]
        }
      ],
      "source": [
        "# Standardize your data\n",
        "scaler = StandardScaler()\n",
        "X_test_scaled = scaler.fit_transform(X_test)\n",
        "\n",
        "# Reshape for LSTM\n",
        "timesteps = 1\n",
        "input_dim = X_test_scaled.shape[1]\n",
        "\n",
        "# Reshape the data for LSTM input\n",
        "X_test_reshaped = X_test_scaled.reshape((X_test_scaled.shape[0], timesteps, input_dim))\n",
        "\n",
        "# Predict\n",
        "X_test_reconstructed = autoencoder.predict(X_test_reshaped)"
      ]
    },
    {
      "cell_type": "code",
      "execution_count": 154,
      "metadata": {
        "colab": {
          "base_uri": "https://localhost:8080/"
        },
        "id": "Mvs3Wx2g7gWs",
        "outputId": "f0313521-4dc8-4428-e2e7-1ee2f2c18855"
      },
      "outputs": [
        {
          "name": "stdout",
          "output_type": "stream",
          "text": [
            "Accuracy test set: 0.9093\n"
          ]
        }
      ],
      "source": [
        "# Calculate the reconstruction error (Mean Squared Error)\n",
        "reconstruction_error = np.mean(np.square(X_test_reshaped - X_test_reconstructed), axis=1)\n",
        "\n",
        "# Set a threshold\n",
        "threshold = np.percentile(reconstruction_error, 96)\n",
        "fraud_predictions = (reconstruction_error > threshold).astype(int)\n",
        "\n",
        "# Calculate the mean or sum of errors across the columns (time steps)\n",
        "fraud_predictions_binary = np.mean(fraud_predictions, axis=1)\n",
        "fraud_predictions_binary = (fraud_predictions_binary > threshold).astype(int)\n",
        "\n",
        "# Compare\n",
        "accuracy_test = accuracy_score(y_test, fraud_predictions_binary)\n",
        "print(f'Accuracy test set: {accuracy_test:.4f}')"
      ]
    },
    {
      "cell_type": "markdown",
      "metadata": {},
      "source": [
        "The accuracy on the entire test set is quite similar to the training set (~90%)"
      ]
    },
    {
      "cell_type": "code",
      "execution_count": 155,
      "metadata": {
        "colab": {
          "base_uri": "https://localhost:8080/"
        },
        "id": "TLC-hXQf7gUQ",
        "outputId": "910b6133-3089-4e86-93b6-30c656c4a714"
      },
      "outputs": [
        {
          "name": "stdout",
          "output_type": "stream",
          "text": [
            "Accuracy of test set on fraudulent transactions: 0.5897\n"
          ]
        }
      ],
      "source": [
        "from sklearn.metrics import accuracy_score\n",
        "\n",
        "fraud_indices = y_test == 1 \n",
        "y_test_fraud = y_test[fraud_indices]\n",
        "fraud_predictions_fraud = fraud_predictions_binary[fraud_indices]\n",
        "\n",
        "accuracy_fraud_test = accuracy_score(y_test_fraud, fraud_predictions_fraud)\n",
        "print(f'Accuracy of test set on fraudulent transactions: {accuracy_fraud_test:.4f}')"
      ]
    },
    {
      "cell_type": "markdown",
      "metadata": {},
      "source": [
        "The accuracy on fraud data is similar as well, with only a small difference between the training set (60%) and the test set (59%)"
      ]
    },
    {
      "cell_type": "markdown",
      "metadata": {},
      "source": [
        "Let's conclude the outcomes from those 2 dataset when using LSTM Autoencoder to predict the fraud transcations"
      ]
    },
    {
      "cell_type": "code",
      "execution_count": null,
      "metadata": {},
      "outputs": [],
      "source": [
        "accuracy_labels = ['accuracy_test', 'accuracy_train', 'accuracy_fraud_test', 'accuracy_fraud_train']\n",
        "accuracy_values = [accuracy_test, accuracy, accuracy_fraud_test, accuracy_fraud]"
      ]
    },
    {
      "cell_type": "code",
      "execution_count": 162,
      "metadata": {
        "id": "zzq2OFIeXMf6"
      },
      "outputs": [],
      "source": [
        "# Bar\n",
        "bar_width = 0.35 \n",
        "x_pos = np.arange(2)"
      ]
    },
    {
      "cell_type": "code",
      "execution_count": 165,
      "metadata": {
        "colab": {
          "base_uri": "https://localhost:8080/",
          "height": 607
        },
        "id": "EvECAz69YDPi",
        "outputId": "d717d1c0-5d99-42a0-ce57-de1230461a89"
      },
      "outputs": [
        {
          "data": {
            "image/png": "[encoded data removed]",
            "text/plain": [
              "<Figure size 1000x600 with 1 Axes>"
            ]
          },
          "metadata": {},
          "output_type": "display_data"
        }
      ],
      "source": [
        "fig, ax = plt.subplots(figsize=(10, 6))\n",
        "bars1 = ax.bar(x_pos - bar_width/2, [accuracy_values[0], accuracy_values[2]], bar_width, color='blue', label='Fraud Accuracy')\n",
        "bars2 = ax.bar(x_pos + bar_width/2, [accuracy_values[1], accuracy_values[3]], bar_width, color='green', label='Regular Accuracy')\n",
        "\n",
        "ax.set_xlabel('Dataset')\n",
        "ax.set_ylabel('Accuracy')\n",
        "ax.set_title('Accuracy Comparison: Test vs Train for Regular and Fraud Detection')\n",
        "\n",
        "ax.set_xticks(x_pos)\n",
        "ax.set_xticklabels(['Regular Accuracy', 'Fraud Accuracy'])\n",
        "\n",
        "\n",
        "for bar in bars1:\n",
        "    yval = bar.get_height()\n",
        "    ax.text(bar.get_x() + bar.get_width()/2, yval + 0.02, round(yval, 2), ha='center', va='bottom')\n",
        "\n",
        "for bar in bars2:\n",
        "    yval = bar.get_height()\n",
        "    ax.text(bar.get_x() + bar.get_width()/2, yval + 0.02, round(yval, 2), ha='center', va='bottom')\n",
        "\n",
        "\n",
        "ax.legend()\n",
        "plt.tight_layout()\n",
        "plt.show()\n"
      ]
    },
    {
      "cell_type": "markdown",
      "metadata": {},
      "source": [
        "# Thank you for your reading!"
      ]
    }
  ],
  "metadata": {
    "accelerator": "GPU",
    "colab": {
      "gpuType": "T4",
      "provenance": []
    },
    "kernelspec": {
      "display_name": "Python 3",
      "name": "python3"
    },
    "language_info": {
      "codemirror_mode": {
        "name": "ipython",
        "version": 3
      },
      "file_extension": ".py",
      "mimetype": "text/x-python",
      "name": "python",
      "nbconvert_exporter": "python",
      "pygments_lexer": "ipython3",
      "version": "3.11.1"
    }
  },
  "nbformat": 4,
  "nbformat_minor": 0
}
